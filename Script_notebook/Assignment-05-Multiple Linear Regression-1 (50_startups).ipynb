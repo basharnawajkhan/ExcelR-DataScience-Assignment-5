{
 "cells": [
  {
   "cell_type": "code",
   "execution_count": 1,
   "id": "762d59b0",
   "metadata": {},
   "outputs": [],
   "source": [
    "import pandas as pd\n",
    "import numpy as np\n",
    "import matplotlib.pyplot as plt\n",
    "import seaborn as sns\n",
    "import statsmodels.formula.api as smf\n",
    "import statsmodels.api as sm\n",
    "from statsmodels.graphics.regressionplots import influence_plot\n",
    "from sklearn.preprocessing import StandardScaler"
   ]
  },
  {
   "cell_type": "code",
   "execution_count": 2,
   "id": "5beedd46",
   "metadata": {},
   "outputs": [
    {
     "data": {
      "text/html": [
       "<div>\n",
       "<style scoped>\n",
       "    .dataframe tbody tr th:only-of-type {\n",
       "        vertical-align: middle;\n",
       "    }\n",
       "\n",
       "    .dataframe tbody tr th {\n",
       "        vertical-align: top;\n",
       "    }\n",
       "\n",
       "    .dataframe thead th {\n",
       "        text-align: right;\n",
       "    }\n",
       "</style>\n",
       "<table border=\"1\" class=\"dataframe\">\n",
       "  <thead>\n",
       "    <tr style=\"text-align: right;\">\n",
       "      <th></th>\n",
       "      <th>R&amp;D Spend</th>\n",
       "      <th>Administration</th>\n",
       "      <th>Marketing Spend</th>\n",
       "      <th>State</th>\n",
       "      <th>Profit</th>\n",
       "    </tr>\n",
       "  </thead>\n",
       "  <tbody>\n",
       "    <tr>\n",
       "      <th>0</th>\n",
       "      <td>165349.20</td>\n",
       "      <td>136897.80</td>\n",
       "      <td>471784.10</td>\n",
       "      <td>New York</td>\n",
       "      <td>192261.83</td>\n",
       "    </tr>\n",
       "    <tr>\n",
       "      <th>1</th>\n",
       "      <td>162597.70</td>\n",
       "      <td>151377.59</td>\n",
       "      <td>443898.53</td>\n",
       "      <td>California</td>\n",
       "      <td>191792.06</td>\n",
       "    </tr>\n",
       "    <tr>\n",
       "      <th>2</th>\n",
       "      <td>153441.51</td>\n",
       "      <td>101145.55</td>\n",
       "      <td>407934.54</td>\n",
       "      <td>Florida</td>\n",
       "      <td>191050.39</td>\n",
       "    </tr>\n",
       "    <tr>\n",
       "      <th>3</th>\n",
       "      <td>144372.41</td>\n",
       "      <td>118671.85</td>\n",
       "      <td>383199.62</td>\n",
       "      <td>New York</td>\n",
       "      <td>182901.99</td>\n",
       "    </tr>\n",
       "    <tr>\n",
       "      <th>4</th>\n",
       "      <td>142107.34</td>\n",
       "      <td>91391.77</td>\n",
       "      <td>366168.42</td>\n",
       "      <td>Florida</td>\n",
       "      <td>166187.94</td>\n",
       "    </tr>\n",
       "  </tbody>\n",
       "</table>\n",
       "</div>"
      ],
      "text/plain": [
       "   R&D Spend  Administration  Marketing Spend       State     Profit\n",
       "0  165349.20       136897.80        471784.10    New York  192261.83\n",
       "1  162597.70       151377.59        443898.53  California  191792.06\n",
       "2  153441.51       101145.55        407934.54     Florida  191050.39\n",
       "3  144372.41       118671.85        383199.62    New York  182901.99\n",
       "4  142107.34        91391.77        366168.42     Florida  166187.94"
      ]
     },
     "execution_count": 2,
     "metadata": {},
     "output_type": "execute_result"
    }
   ],
   "source": [
    "data = pd.read_csv(\"C:/Users/BASHAR/OneDrive/Documents/Data Science/Assignment/Assignment - 5/50_Startups.csv\")\n",
    "data.head()"
   ]
  },
  {
   "cell_type": "markdown",
   "id": "103f9cf3",
   "metadata": {},
   "source": [
    "# EDA and Data Visualization"
   ]
  },
  {
   "cell_type": "code",
   "execution_count": 3,
   "id": "4fef0622",
   "metadata": {},
   "outputs": [
    {
     "name": "stdout",
     "output_type": "stream",
     "text": [
      "<class 'pandas.core.frame.DataFrame'>\n",
      "RangeIndex: 50 entries, 0 to 49\n",
      "Data columns (total 5 columns):\n",
      " #   Column           Non-Null Count  Dtype  \n",
      "---  ------           --------------  -----  \n",
      " 0   R&D Spend        50 non-null     float64\n",
      " 1   Administration   50 non-null     float64\n",
      " 2   Marketing Spend  50 non-null     float64\n",
      " 3   State            50 non-null     object \n",
      " 4   Profit           50 non-null     float64\n",
      "dtypes: float64(4), object(1)\n",
      "memory usage: 2.1+ KB\n"
     ]
    }
   ],
   "source": [
    "data.info()"
   ]
  },
  {
   "cell_type": "markdown",
   "id": "db140587",
   "metadata": {},
   "source": [
    "## Observations :-\n",
    "\n",
    "1. We can see that R&D spend, Administration, Marketing Spend and Profit consists of floating point data type values and State has object type values.\n",
    "2. We can also see that all 50 observations are non null and hence we don't have any missing values."
   ]
  },
  {
   "cell_type": "code",
   "execution_count": 4,
   "id": "ec866a11",
   "metadata": {},
   "outputs": [
    {
     "data": {
      "text/plain": [
       "R&D Spend          0\n",
       "Administration     0\n",
       "Marketing Spend    0\n",
       "State              0\n",
       "Profit             0\n",
       "dtype: int64"
      ]
     },
     "execution_count": 4,
     "metadata": {},
     "output_type": "execute_result"
    }
   ],
   "source": [
    "data.isna().sum()"
   ]
  },
  {
   "cell_type": "code",
   "execution_count": 5,
   "id": "b622b05f",
   "metadata": {},
   "outputs": [
    {
     "data": {
      "text/plain": [
       "(0, 5)"
      ]
     },
     "execution_count": 5,
     "metadata": {},
     "output_type": "execute_result"
    }
   ],
   "source": [
    "data[data.duplicated()].shape"
   ]
  },
  {
   "cell_type": "markdown",
   "id": "b0989f95",
   "metadata": {},
   "source": [
    "We don't have any duplicate values in our dataset."
   ]
  },
  {
   "cell_type": "code",
   "execution_count": 6,
   "id": "6531e3e6",
   "metadata": {},
   "outputs": [
    {
     "data": {
      "text/html": [
       "<div>\n",
       "<style scoped>\n",
       "    .dataframe tbody tr th:only-of-type {\n",
       "        vertical-align: middle;\n",
       "    }\n",
       "\n",
       "    .dataframe tbody tr th {\n",
       "        vertical-align: top;\n",
       "    }\n",
       "\n",
       "    .dataframe thead th {\n",
       "        text-align: right;\n",
       "    }\n",
       "</style>\n",
       "<table border=\"1\" class=\"dataframe\">\n",
       "  <thead>\n",
       "    <tr style=\"text-align: right;\">\n",
       "      <th></th>\n",
       "      <th>count</th>\n",
       "      <th>mean</th>\n",
       "      <th>std</th>\n",
       "      <th>min</th>\n",
       "      <th>25%</th>\n",
       "      <th>50%</th>\n",
       "      <th>75%</th>\n",
       "      <th>max</th>\n",
       "    </tr>\n",
       "  </thead>\n",
       "  <tbody>\n",
       "    <tr>\n",
       "      <th>R&amp;D Spend</th>\n",
       "      <td>50.0</td>\n",
       "      <td>73721.6156</td>\n",
       "      <td>45902.256482</td>\n",
       "      <td>0.00</td>\n",
       "      <td>39936.3700</td>\n",
       "      <td>73051.080</td>\n",
       "      <td>101602.8000</td>\n",
       "      <td>165349.20</td>\n",
       "    </tr>\n",
       "    <tr>\n",
       "      <th>Administration</th>\n",
       "      <td>50.0</td>\n",
       "      <td>121344.6396</td>\n",
       "      <td>28017.802755</td>\n",
       "      <td>51283.14</td>\n",
       "      <td>103730.8750</td>\n",
       "      <td>122699.795</td>\n",
       "      <td>144842.1800</td>\n",
       "      <td>182645.56</td>\n",
       "    </tr>\n",
       "    <tr>\n",
       "      <th>Marketing Spend</th>\n",
       "      <td>50.0</td>\n",
       "      <td>211025.0978</td>\n",
       "      <td>122290.310726</td>\n",
       "      <td>0.00</td>\n",
       "      <td>129300.1325</td>\n",
       "      <td>212716.240</td>\n",
       "      <td>299469.0850</td>\n",
       "      <td>471784.10</td>\n",
       "    </tr>\n",
       "    <tr>\n",
       "      <th>Profit</th>\n",
       "      <td>50.0</td>\n",
       "      <td>112012.6392</td>\n",
       "      <td>40306.180338</td>\n",
       "      <td>14681.40</td>\n",
       "      <td>90138.9025</td>\n",
       "      <td>107978.190</td>\n",
       "      <td>139765.9775</td>\n",
       "      <td>192261.83</td>\n",
       "    </tr>\n",
       "  </tbody>\n",
       "</table>\n",
       "</div>"
      ],
      "text/plain": [
       "                 count         mean            std       min          25%  \\\n",
       "R&D Spend         50.0   73721.6156   45902.256482      0.00   39936.3700   \n",
       "Administration    50.0  121344.6396   28017.802755  51283.14  103730.8750   \n",
       "Marketing Spend   50.0  211025.0978  122290.310726      0.00  129300.1325   \n",
       "Profit            50.0  112012.6392   40306.180338  14681.40   90138.9025   \n",
       "\n",
       "                        50%          75%        max  \n",
       "R&D Spend         73051.080  101602.8000  165349.20  \n",
       "Administration   122699.795  144842.1800  182645.56  \n",
       "Marketing Spend  212716.240  299469.0850  471784.10  \n",
       "Profit           107978.190  139765.9775  192261.83  "
      ]
     },
     "execution_count": 6,
     "metadata": {},
     "output_type": "execute_result"
    }
   ],
   "source": [
    "data.describe().T"
   ]
  },
  {
   "cell_type": "markdown",
   "id": "c297650f",
   "metadata": {},
   "source": [
    "Observations :-\n",
    "\n",
    "1. The mean value and the median value (50% percentile) are not having much difference between them for all the columns.\n",
    "2. There is not a big difference in the 75% value and max value for all the columns except Marketing Spend column. For Marketing Spend, the 75% value is at 299469 but max value is 471784 (almost double).\n",
    "3. From observations 1 and 2, it looks like there is no outlier for R&D Spend, Administration and Profit. However, we can say there is a chance of outlier in Marketing Spend column. But we will be confirming that below with the help of boxplot."
   ]
  },
  {
   "cell_type": "code",
   "execution_count": 7,
   "id": "3f439c08",
   "metadata": {},
   "outputs": [
    {
     "data": {
      "image/png": "[encoded data removed]",
      "text/plain": [
       "<Figure size 432x288 with 1 Axes>"
      ]
     },
     "metadata": {
      "needs_background": "light"
     },
     "output_type": "display_data"
    }
   ],
   "source": [
    "plt.boxplot(data[\"R&D Spend\"], vert=False)\n",
    "plt.xlabel(\"R&D Spend\")\n",
    "plt.show()"
   ]
  },
  {
   "cell_type": "markdown",
   "id": "8808bbde",
   "metadata": {},
   "source": [
    "There are no outliers in the R & D spend column."
   ]
  },
  {
   "cell_type": "code",
   "execution_count": 8,
   "id": "2caf20d3",
   "metadata": {},
   "outputs": [
    {
     "data": {
      "image/png": "[encoded data removed]",
      "text/plain": [
       "<Figure size 432x288 with 1 Axes>"
      ]
     },
     "metadata": {
      "needs_background": "light"
     },
     "output_type": "display_data"
    }
   ],
   "source": [
    "plt.boxplot(data[\"Administration\"], vert=False)\n",
    "plt.xlabel(\"Administration\")\n",
    "plt.show()"
   ]
  },
  {
   "cell_type": "markdown",
   "id": "bc75f4dc",
   "metadata": {},
   "source": [
    "There are no outliers in the Administration column."
   ]
  },
  {
   "cell_type": "code",
   "execution_count": 9,
   "id": "3a5387b8",
   "metadata": {},
   "outputs": [
    {
     "data": {
      "image/png": "[encoded data removed]",
      "text/plain": [
       "<Figure size 432x288 with 1 Axes>"
      ]
     },
     "metadata": {
      "needs_background": "light"
     },
     "output_type": "display_data"
    }
   ],
   "source": [
    "plt.boxplot(data[\"Marketing Spend\"], vert=False)\n",
    "plt.xlabel(\"Marketing Spend\")\n",
    "plt.show()"
   ]
  },
  {
   "cell_type": "markdown",
   "id": "c1665c8e",
   "metadata": {},
   "source": [
    "There are no outliers in the Marketing Spend column."
   ]
  },
  {
   "cell_type": "code",
   "execution_count": 10,
   "id": "c7a7310c",
   "metadata": {},
   "outputs": [
    {
     "data": {
      "image/png": "[encoded data removed]",
      "text/plain": [
       "<Figure size 432x288 with 1 Axes>"
      ]
     },
     "metadata": {
      "needs_background": "light"
     },
     "output_type": "display_data"
    }
   ],
   "source": [
    "plt.boxplot(data[\"Profit\"], vert=False)\n",
    "plt.xlabel(\"Profit\")\n",
    "plt.show()"
   ]
  },
  {
   "cell_type": "markdown",
   "id": "8c47ae0f",
   "metadata": {},
   "source": [
    "There is an outliers in the Profit column. The value is less than 25,000 which means the company made once very less profit."
   ]
  },
  {
   "cell_type": "code",
   "execution_count": 11,
   "id": "2f4615ad",
   "metadata": {},
   "outputs": [
    {
     "name": "stderr",
     "output_type": "stream",
     "text": [
      "C:\\ProgramData\\Anaconda3\\lib\\site-packages\\seaborn\\distributions.py:2619: FutureWarning: `distplot` is a deprecated function and will be removed in a future version. Please adapt your code to use either `displot` (a figure-level function with similar flexibility) or `histplot` (an axes-level function for histograms).\n",
      "  warnings.warn(msg, FutureWarning)\n"
     ]
    },
    {
     "data": {
      "text/plain": [
       "<AxesSubplot:xlabel='R&D Spend', ylabel='Density'>"
      ]
     },
     "execution_count": 11,
     "metadata": {},
     "output_type": "execute_result"
    },
    {
     "data": {
      "image/png": "[encoded data removed]",
      "text/plain": [
       "<Figure size 432x288 with 1 Axes>"
      ]
     },
     "metadata": {
      "needs_background": "light"
     },
     "output_type": "display_data"
    }
   ],
   "source": [
    "sns.distplot(data[\"R&D Spend\"])"
   ]
  },
  {
   "cell_type": "code",
   "execution_count": 12,
   "id": "ec73b9e6",
   "metadata": {},
   "outputs": [
    {
     "name": "stderr",
     "output_type": "stream",
     "text": [
      "C:\\ProgramData\\Anaconda3\\lib\\site-packages\\seaborn\\distributions.py:2619: FutureWarning: `distplot` is a deprecated function and will be removed in a future version. Please adapt your code to use either `displot` (a figure-level function with similar flexibility) or `histplot` (an axes-level function for histograms).\n",
      "  warnings.warn(msg, FutureWarning)\n"
     ]
    },
    {
     "data": {
      "text/plain": [
       "<AxesSubplot:xlabel='Administration', ylabel='Density'>"
      ]
     },
     "execution_count": 12,
     "metadata": {},
     "output_type": "execute_result"
    },
    {
     "data": {
      "image/png": "[encoded data removed]",
      "text/plain": [
       "<Figure size 432x288 with 1 Axes>"
      ]
     },
     "metadata": {
      "needs_background": "light"
     },
     "output_type": "display_data"
    }
   ],
   "source": [
    "sns.distplot(data[\"Administration\"])"
   ]
  },
  {
   "cell_type": "code",
   "execution_count": 13,
   "id": "6b52a725",
   "metadata": {},
   "outputs": [
    {
     "name": "stderr",
     "output_type": "stream",
     "text": [
      "C:\\ProgramData\\Anaconda3\\lib\\site-packages\\seaborn\\distributions.py:2619: FutureWarning: `distplot` is a deprecated function and will be removed in a future version. Please adapt your code to use either `displot` (a figure-level function with similar flexibility) or `histplot` (an axes-level function for histograms).\n",
      "  warnings.warn(msg, FutureWarning)\n"
     ]
    },
    {
     "data": {
      "text/plain": [
       "<AxesSubplot:xlabel='Marketing Spend', ylabel='Density'>"
      ]
     },
     "execution_count": 13,
     "metadata": {},
     "output_type": "execute_result"
    },
    {
     "data": {
      "image/png": "[encoded data removed]",
      "text/plain": [
       "<Figure size 432x288 with 1 Axes>"
      ]
     },
     "metadata": {
      "needs_background": "light"
     },
     "output_type": "display_data"
    }
   ],
   "source": [
    "sns.distplot(data[\"Marketing Spend\"])"
   ]
  },
  {
   "cell_type": "code",
   "execution_count": 14,
   "id": "b4018210",
   "metadata": {},
   "outputs": [
    {
     "name": "stderr",
     "output_type": "stream",
     "text": [
      "C:\\ProgramData\\Anaconda3\\lib\\site-packages\\seaborn\\distributions.py:2619: FutureWarning: `distplot` is a deprecated function and will be removed in a future version. Please adapt your code to use either `displot` (a figure-level function with similar flexibility) or `histplot` (an axes-level function for histograms).\n",
      "  warnings.warn(msg, FutureWarning)\n"
     ]
    },
    {
     "data": {
      "text/plain": [
       "<AxesSubplot:xlabel='Profit', ylabel='Density'>"
      ]
     },
     "execution_count": 14,
     "metadata": {},
     "output_type": "execute_result"
    },
    {
     "data": {
      "image/png": "[encoded data removed]",
      "text/plain": [
       "<Figure size 432x288 with 1 Axes>"
      ]
     },
     "metadata": {
      "needs_background": "light"
     },
     "output_type": "display_data"
    }
   ],
   "source": [
    "sns.distplot(data[\"Profit\"])"
   ]
  },
  {
   "cell_type": "code",
   "execution_count": 15,
   "id": "0affc97e",
   "metadata": {},
   "outputs": [
    {
     "data": {
      "text/plain": [
       "<seaborn.axisgrid.PairGrid at 0x209d8de9160>"
      ]
     },
     "execution_count": 15,
     "metadata": {},
     "output_type": "execute_result"
    },
    {
     "data": {
      "image/png": "[encoded data removed]",
      "text/plain": [
       "<Figure size 720x720 with 20 Axes>"
      ]
     },
     "metadata": {},
     "output_type": "display_data"
    }
   ],
   "source": [
    "sns.set_style(style='darkgrid')\n",
    "sns.pairplot(data)"
   ]
  },
  {
   "cell_type": "markdown",
   "id": "abd184a9",
   "metadata": {},
   "source": [
    "Observations :-\n",
    "    \n",
    "1. There is an increase in Profit with increase in R & D spend. It means there is a positive correlation between them.\n",
    "2. There exist a positive correlation between R & D spend and Marketing Spend as well."
   ]
  },
  {
   "cell_type": "markdown",
   "id": "0e38f4c2",
   "metadata": {},
   "source": [
    "# Correlation Analysis"
   ]
  },
  {
   "cell_type": "code",
   "execution_count": 16,
   "id": "e7aeba9d",
   "metadata": {},
   "outputs": [
    {
     "data": {
      "text/html": [
       "<div>\n",
       "<style scoped>\n",
       "    .dataframe tbody tr th:only-of-type {\n",
       "        vertical-align: middle;\n",
       "    }\n",
       "\n",
       "    .dataframe tbody tr th {\n",
       "        vertical-align: top;\n",
       "    }\n",
       "\n",
       "    .dataframe thead th {\n",
       "        text-align: right;\n",
       "    }\n",
       "</style>\n",
       "<table border=\"1\" class=\"dataframe\">\n",
       "  <thead>\n",
       "    <tr style=\"text-align: right;\">\n",
       "      <th></th>\n",
       "      <th>R&amp;D Spend</th>\n",
       "      <th>Administration</th>\n",
       "      <th>Marketing Spend</th>\n",
       "      <th>Profit</th>\n",
       "    </tr>\n",
       "  </thead>\n",
       "  <tbody>\n",
       "    <tr>\n",
       "      <th>R&amp;D Spend</th>\n",
       "      <td>1.000000</td>\n",
       "      <td>0.241955</td>\n",
       "      <td>0.724248</td>\n",
       "      <td>0.972900</td>\n",
       "    </tr>\n",
       "    <tr>\n",
       "      <th>Administration</th>\n",
       "      <td>0.241955</td>\n",
       "      <td>1.000000</td>\n",
       "      <td>-0.032154</td>\n",
       "      <td>0.200717</td>\n",
       "    </tr>\n",
       "    <tr>\n",
       "      <th>Marketing Spend</th>\n",
       "      <td>0.724248</td>\n",
       "      <td>-0.032154</td>\n",
       "      <td>1.000000</td>\n",
       "      <td>0.747766</td>\n",
       "    </tr>\n",
       "    <tr>\n",
       "      <th>Profit</th>\n",
       "      <td>0.972900</td>\n",
       "      <td>0.200717</td>\n",
       "      <td>0.747766</td>\n",
       "      <td>1.000000</td>\n",
       "    </tr>\n",
       "  </tbody>\n",
       "</table>\n",
       "</div>"
      ],
      "text/plain": [
       "                 R&D Spend  Administration  Marketing Spend    Profit\n",
       "R&D Spend         1.000000        0.241955         0.724248  0.972900\n",
       "Administration    0.241955        1.000000        -0.032154  0.200717\n",
       "Marketing Spend   0.724248       -0.032154         1.000000  0.747766\n",
       "Profit            0.972900        0.200717         0.747766  1.000000"
      ]
     },
     "execution_count": 16,
     "metadata": {},
     "output_type": "execute_result"
    }
   ],
   "source": [
    "data.corr()"
   ]
  },
  {
   "cell_type": "markdown",
   "id": "a54704cc",
   "metadata": {},
   "source": [
    "Correlation only works on the continuous variables and we have State variable which is a categorical variable. So we need to convert the State variable into numerical values."
   ]
  },
  {
   "cell_type": "code",
   "execution_count": 17,
   "id": "a3e038bb",
   "metadata": {},
   "outputs": [
    {
     "data": {
      "text/html": [
       "<div>\n",
       "<style scoped>\n",
       "    .dataframe tbody tr th:only-of-type {\n",
       "        vertical-align: middle;\n",
       "    }\n",
       "\n",
       "    .dataframe tbody tr th {\n",
       "        vertical-align: top;\n",
       "    }\n",
       "\n",
       "    .dataframe thead th {\n",
       "        text-align: right;\n",
       "    }\n",
       "</style>\n",
       "<table border=\"1\" class=\"dataframe\">\n",
       "  <thead>\n",
       "    <tr style=\"text-align: right;\">\n",
       "      <th></th>\n",
       "      <th>R&amp;D Spend</th>\n",
       "      <th>Administration</th>\n",
       "      <th>Marketing Spend</th>\n",
       "      <th>Profit</th>\n",
       "      <th>State_California</th>\n",
       "      <th>State_Florida</th>\n",
       "      <th>State_New York</th>\n",
       "    </tr>\n",
       "  </thead>\n",
       "  <tbody>\n",
       "    <tr>\n",
       "      <th>0</th>\n",
       "      <td>165349.20</td>\n",
       "      <td>136897.80</td>\n",
       "      <td>471784.10</td>\n",
       "      <td>192261.83</td>\n",
       "      <td>0</td>\n",
       "      <td>0</td>\n",
       "      <td>1</td>\n",
       "    </tr>\n",
       "    <tr>\n",
       "      <th>1</th>\n",
       "      <td>162597.70</td>\n",
       "      <td>151377.59</td>\n",
       "      <td>443898.53</td>\n",
       "      <td>191792.06</td>\n",
       "      <td>1</td>\n",
       "      <td>0</td>\n",
       "      <td>0</td>\n",
       "    </tr>\n",
       "    <tr>\n",
       "      <th>2</th>\n",
       "      <td>153441.51</td>\n",
       "      <td>101145.55</td>\n",
       "      <td>407934.54</td>\n",
       "      <td>191050.39</td>\n",
       "      <td>0</td>\n",
       "      <td>1</td>\n",
       "      <td>0</td>\n",
       "    </tr>\n",
       "    <tr>\n",
       "      <th>3</th>\n",
       "      <td>144372.41</td>\n",
       "      <td>118671.85</td>\n",
       "      <td>383199.62</td>\n",
       "      <td>182901.99</td>\n",
       "      <td>0</td>\n",
       "      <td>0</td>\n",
       "      <td>1</td>\n",
       "    </tr>\n",
       "    <tr>\n",
       "      <th>4</th>\n",
       "      <td>142107.34</td>\n",
       "      <td>91391.77</td>\n",
       "      <td>366168.42</td>\n",
       "      <td>166187.94</td>\n",
       "      <td>0</td>\n",
       "      <td>1</td>\n",
       "      <td>0</td>\n",
       "    </tr>\n",
       "  </tbody>\n",
       "</table>\n",
       "</div>"
      ],
      "text/plain": [
       "   R&D Spend  Administration  Marketing Spend     Profit  State_California  \\\n",
       "0  165349.20       136897.80        471784.10  192261.83                 0   \n",
       "1  162597.70       151377.59        443898.53  191792.06                 1   \n",
       "2  153441.51       101145.55        407934.54  191050.39                 0   \n",
       "3  144372.41       118671.85        383199.62  182901.99                 0   \n",
       "4  142107.34        91391.77        366168.42  166187.94                 0   \n",
       "\n",
       "   State_Florida  State_New York  \n",
       "0              0               1  \n",
       "1              0               0  \n",
       "2              1               0  \n",
       "3              0               1  \n",
       "4              1               0  "
      ]
     },
     "execution_count": 17,
     "metadata": {},
     "output_type": "execute_result"
    }
   ],
   "source": [
    "data = pd.get_dummies(data, columns=[\"State\"])\n",
    "data.head()"
   ]
  },
  {
   "cell_type": "code",
   "execution_count": 18,
   "id": "51497fc7",
   "metadata": {},
   "outputs": [
    {
     "data": {
      "text/html": [
       "<div>\n",
       "<style scoped>\n",
       "    .dataframe tbody tr th:only-of-type {\n",
       "        vertical-align: middle;\n",
       "    }\n",
       "\n",
       "    .dataframe tbody tr th {\n",
       "        vertical-align: top;\n",
       "    }\n",
       "\n",
       "    .dataframe thead th {\n",
       "        text-align: right;\n",
       "    }\n",
       "</style>\n",
       "<table border=\"1\" class=\"dataframe\">\n",
       "  <thead>\n",
       "    <tr style=\"text-align: right;\">\n",
       "      <th></th>\n",
       "      <th>RDS</th>\n",
       "      <th>ADMS</th>\n",
       "      <th>MKTS</th>\n",
       "      <th>Profit</th>\n",
       "      <th>S_CA</th>\n",
       "      <th>S_FL</th>\n",
       "      <th>S_NY</th>\n",
       "    </tr>\n",
       "  </thead>\n",
       "  <tbody>\n",
       "    <tr>\n",
       "      <th>0</th>\n",
       "      <td>165349.20</td>\n",
       "      <td>136897.80</td>\n",
       "      <td>471784.10</td>\n",
       "      <td>192261.83</td>\n",
       "      <td>0</td>\n",
       "      <td>0</td>\n",
       "      <td>1</td>\n",
       "    </tr>\n",
       "    <tr>\n",
       "      <th>1</th>\n",
       "      <td>162597.70</td>\n",
       "      <td>151377.59</td>\n",
       "      <td>443898.53</td>\n",
       "      <td>191792.06</td>\n",
       "      <td>1</td>\n",
       "      <td>0</td>\n",
       "      <td>0</td>\n",
       "    </tr>\n",
       "    <tr>\n",
       "      <th>2</th>\n",
       "      <td>153441.51</td>\n",
       "      <td>101145.55</td>\n",
       "      <td>407934.54</td>\n",
       "      <td>191050.39</td>\n",
       "      <td>0</td>\n",
       "      <td>1</td>\n",
       "      <td>0</td>\n",
       "    </tr>\n",
       "    <tr>\n",
       "      <th>3</th>\n",
       "      <td>144372.41</td>\n",
       "      <td>118671.85</td>\n",
       "      <td>383199.62</td>\n",
       "      <td>182901.99</td>\n",
       "      <td>0</td>\n",
       "      <td>0</td>\n",
       "      <td>1</td>\n",
       "    </tr>\n",
       "    <tr>\n",
       "      <th>4</th>\n",
       "      <td>142107.34</td>\n",
       "      <td>91391.77</td>\n",
       "      <td>366168.42</td>\n",
       "      <td>166187.94</td>\n",
       "      <td>0</td>\n",
       "      <td>1</td>\n",
       "      <td>0</td>\n",
       "    </tr>\n",
       "  </tbody>\n",
       "</table>\n",
       "</div>"
      ],
      "text/plain": [
       "         RDS       ADMS       MKTS     Profit  S_CA  S_FL  S_NY\n",
       "0  165349.20  136897.80  471784.10  192261.83     0     0     1\n",
       "1  162597.70  151377.59  443898.53  191792.06     1     0     0\n",
       "2  153441.51  101145.55  407934.54  191050.39     0     1     0\n",
       "3  144372.41  118671.85  383199.62  182901.99     0     0     1\n",
       "4  142107.34   91391.77  366168.42  166187.94     0     1     0"
      ]
     },
     "execution_count": 18,
     "metadata": {},
     "output_type": "execute_result"
    }
   ],
   "source": [
    "data1 = data.rename({'R&D Spend':'RDS', 'Administration':'ADMS', 'Marketing Spend':'MKTS', 'State_California':'S_CA', 'State_Florida':'S_FL', 'State_New York':'S_NY'}, axis=1)\n",
    "data1.head()"
   ]
  },
  {
   "cell_type": "code",
   "execution_count": 19,
   "id": "aeaf2ace",
   "metadata": {},
   "outputs": [
    {
     "data": {
      "text/html": [
       "<div>\n",
       "<style scoped>\n",
       "    .dataframe tbody tr th:only-of-type {\n",
       "        vertical-align: middle;\n",
       "    }\n",
       "\n",
       "    .dataframe tbody tr th {\n",
       "        vertical-align: top;\n",
       "    }\n",
       "\n",
       "    .dataframe thead th {\n",
       "        text-align: right;\n",
       "    }\n",
       "</style>\n",
       "<table border=\"1\" class=\"dataframe\">\n",
       "  <thead>\n",
       "    <tr style=\"text-align: right;\">\n",
       "      <th></th>\n",
       "      <th>RDS</th>\n",
       "      <th>ADMS</th>\n",
       "      <th>MKTS</th>\n",
       "      <th>Profit</th>\n",
       "      <th>S_CA</th>\n",
       "      <th>S_FL</th>\n",
       "      <th>S_NY</th>\n",
       "    </tr>\n",
       "  </thead>\n",
       "  <tbody>\n",
       "    <tr>\n",
       "      <th>RDS</th>\n",
       "      <td>1.000000</td>\n",
       "      <td>0.241955</td>\n",
       "      <td>0.724248</td>\n",
       "      <td>0.972900</td>\n",
       "      <td>-0.143165</td>\n",
       "      <td>0.105711</td>\n",
       "      <td>0.039068</td>\n",
       "    </tr>\n",
       "    <tr>\n",
       "      <th>ADMS</th>\n",
       "      <td>0.241955</td>\n",
       "      <td>1.000000</td>\n",
       "      <td>-0.032154</td>\n",
       "      <td>0.200717</td>\n",
       "      <td>-0.015478</td>\n",
       "      <td>0.010493</td>\n",
       "      <td>0.005145</td>\n",
       "    </tr>\n",
       "    <tr>\n",
       "      <th>MKTS</th>\n",
       "      <td>0.724248</td>\n",
       "      <td>-0.032154</td>\n",
       "      <td>1.000000</td>\n",
       "      <td>0.747766</td>\n",
       "      <td>-0.168875</td>\n",
       "      <td>0.205685</td>\n",
       "      <td>-0.033670</td>\n",
       "    </tr>\n",
       "    <tr>\n",
       "      <th>Profit</th>\n",
       "      <td>0.972900</td>\n",
       "      <td>0.200717</td>\n",
       "      <td>0.747766</td>\n",
       "      <td>1.000000</td>\n",
       "      <td>-0.145837</td>\n",
       "      <td>0.116244</td>\n",
       "      <td>0.031368</td>\n",
       "    </tr>\n",
       "    <tr>\n",
       "      <th>S_CA</th>\n",
       "      <td>-0.143165</td>\n",
       "      <td>-0.015478</td>\n",
       "      <td>-0.168875</td>\n",
       "      <td>-0.145837</td>\n",
       "      <td>1.000000</td>\n",
       "      <td>-0.492366</td>\n",
       "      <td>-0.515152</td>\n",
       "    </tr>\n",
       "    <tr>\n",
       "      <th>S_FL</th>\n",
       "      <td>0.105711</td>\n",
       "      <td>0.010493</td>\n",
       "      <td>0.205685</td>\n",
       "      <td>0.116244</td>\n",
       "      <td>-0.492366</td>\n",
       "      <td>1.000000</td>\n",
       "      <td>-0.492366</td>\n",
       "    </tr>\n",
       "    <tr>\n",
       "      <th>S_NY</th>\n",
       "      <td>0.039068</td>\n",
       "      <td>0.005145</td>\n",
       "      <td>-0.033670</td>\n",
       "      <td>0.031368</td>\n",
       "      <td>-0.515152</td>\n",
       "      <td>-0.492366</td>\n",
       "      <td>1.000000</td>\n",
       "    </tr>\n",
       "  </tbody>\n",
       "</table>\n",
       "</div>"
      ],
      "text/plain": [
       "             RDS      ADMS      MKTS    Profit      S_CA      S_FL      S_NY\n",
       "RDS     1.000000  0.241955  0.724248  0.972900 -0.143165  0.105711  0.039068\n",
       "ADMS    0.241955  1.000000 -0.032154  0.200717 -0.015478  0.010493  0.005145\n",
       "MKTS    0.724248 -0.032154  1.000000  0.747766 -0.168875  0.205685 -0.033670\n",
       "Profit  0.972900  0.200717  0.747766  1.000000 -0.145837  0.116244  0.031368\n",
       "S_CA   -0.143165 -0.015478 -0.168875 -0.145837  1.000000 -0.492366 -0.515152\n",
       "S_FL    0.105711  0.010493  0.205685  0.116244 -0.492366  1.000000 -0.492366\n",
       "S_NY    0.039068  0.005145 -0.033670  0.031368 -0.515152 -0.492366  1.000000"
      ]
     },
     "execution_count": 19,
     "metadata": {},
     "output_type": "execute_result"
    }
   ],
   "source": [
    "data1.corr()"
   ]
  },
  {
   "cell_type": "code",
   "execution_count": 20,
   "id": "26fcd682",
   "metadata": {},
   "outputs": [
    {
     "data": {
      "text/plain": [
       "<AxesSubplot:>"
      ]
     },
     "execution_count": 20,
     "metadata": {},
     "output_type": "execute_result"
    },
    {
     "data": {
      "image/png": "[encoded data removed]",
      "text/plain": [
       "<Figure size 720x576 with 2 Axes>"
      ]
     },
     "metadata": {},
     "output_type": "display_data"
    }
   ],
   "source": [
    "plt.figure(figsize=(10,8))\n",
    "sns.heatmap(data1.corr(), annot=True, cmap='rocket')"
   ]
  },
  {
   "cell_type": "markdown",
   "id": "ac8673d5",
   "metadata": {},
   "source": [
    "Observations :-\n",
    "    \n",
    "1. There exist a positive correlation between R&D spend and Marketing Spend with value 0.72.\n",
    "2. There is a very high positive correlation between Profit and R&D Spend as well with a value of 0.972.\n",
    "3. The correlation value for Administration and R&D Spend is 0.24 so we can say there is very low correlation between them.\n",
    "4. The correlation value for Administration and Marketing Spend is -0.03 so we can say there is negative correlation between them but it very low.\n",
    "5. The correlation values between the states California, Florida and New York and Profit is very less (almost 0)."
   ]
  },
  {
   "cell_type": "markdown",
   "id": "e91ab905",
   "metadata": {},
   "source": [
    "# Standardization"
   ]
  },
  {
   "cell_type": "markdown",
   "id": "65460d2e",
   "metadata": {},
   "source": [
    "The scale is very different for States and the other variables so we will use Standard Scaler technique for standardizing the other variables."
   ]
  },
  {
   "cell_type": "code",
   "execution_count": 21,
   "id": "45ee4e3d",
   "metadata": {},
   "outputs": [
    {
     "data": {
      "text/html": [
       "<div>\n",
       "<style scoped>\n",
       "    .dataframe tbody tr th:only-of-type {\n",
       "        vertical-align: middle;\n",
       "    }\n",
       "\n",
       "    .dataframe tbody tr th {\n",
       "        vertical-align: top;\n",
       "    }\n",
       "\n",
       "    .dataframe thead th {\n",
       "        text-align: right;\n",
       "    }\n",
       "</style>\n",
       "<table border=\"1\" class=\"dataframe\">\n",
       "  <thead>\n",
       "    <tr style=\"text-align: right;\">\n",
       "      <th></th>\n",
       "      <th>RDS</th>\n",
       "      <th>ADMS</th>\n",
       "      <th>MKTS</th>\n",
       "      <th>Profit</th>\n",
       "      <th>S_CA</th>\n",
       "      <th>S_FL</th>\n",
       "      <th>S_NY</th>\n",
       "    </tr>\n",
       "  </thead>\n",
       "  <tbody>\n",
       "    <tr>\n",
       "      <th>0</th>\n",
       "      <td>2.016411</td>\n",
       "      <td>0.560753</td>\n",
       "      <td>2.153943</td>\n",
       "      <td>2.011203</td>\n",
       "      <td>-0.717741</td>\n",
       "      <td>-0.685994</td>\n",
       "      <td>1.393261</td>\n",
       "    </tr>\n",
       "    <tr>\n",
       "      <th>1</th>\n",
       "      <td>1.955860</td>\n",
       "      <td>1.082807</td>\n",
       "      <td>1.923600</td>\n",
       "      <td>1.999430</td>\n",
       "      <td>1.393261</td>\n",
       "      <td>-0.685994</td>\n",
       "      <td>-0.717741</td>\n",
       "    </tr>\n",
       "    <tr>\n",
       "      <th>2</th>\n",
       "      <td>1.754364</td>\n",
       "      <td>-0.728257</td>\n",
       "      <td>1.626528</td>\n",
       "      <td>1.980842</td>\n",
       "      <td>-0.717741</td>\n",
       "      <td>1.457738</td>\n",
       "      <td>-0.717741</td>\n",
       "    </tr>\n",
       "    <tr>\n",
       "      <th>3</th>\n",
       "      <td>1.554784</td>\n",
       "      <td>-0.096365</td>\n",
       "      <td>1.422210</td>\n",
       "      <td>1.776627</td>\n",
       "      <td>-0.717741</td>\n",
       "      <td>-0.685994</td>\n",
       "      <td>1.393261</td>\n",
       "    </tr>\n",
       "    <tr>\n",
       "      <th>4</th>\n",
       "      <td>1.504937</td>\n",
       "      <td>-1.079919</td>\n",
       "      <td>1.281528</td>\n",
       "      <td>1.357740</td>\n",
       "      <td>-0.717741</td>\n",
       "      <td>1.457738</td>\n",
       "      <td>-0.717741</td>\n",
       "    </tr>\n",
       "  </tbody>\n",
       "</table>\n",
       "</div>"
      ],
      "text/plain": [
       "        RDS      ADMS      MKTS    Profit      S_CA      S_FL      S_NY\n",
       "0  2.016411  0.560753  2.153943  2.011203 -0.717741 -0.685994  1.393261\n",
       "1  1.955860  1.082807  1.923600  1.999430  1.393261 -0.685994 -0.717741\n",
       "2  1.754364 -0.728257  1.626528  1.980842 -0.717741  1.457738 -0.717741\n",
       "3  1.554784 -0.096365  1.422210  1.776627 -0.717741 -0.685994  1.393261\n",
       "4  1.504937 -1.079919  1.281528  1.357740 -0.717741  1.457738 -0.717741"
      ]
     },
     "execution_count": 21,
     "metadata": {},
     "output_type": "execute_result"
    }
   ],
   "source": [
    "std = StandardScaler().fit_transform(data1)\n",
    "std_data = pd.DataFrame(std, columns=data1.columns)\n",
    "std_data.head()"
   ]
  },
  {
   "cell_type": "markdown",
   "id": "b019d4c6",
   "metadata": {},
   "source": [
    "## Preparing a linear regression model"
   ]
  },
  {
   "cell_type": "code",
   "execution_count": 22,
   "id": "be231929",
   "metadata": {},
   "outputs": [
    {
     "data": {
      "text/plain": [
       "(Intercept   -1.597038e-14\n",
       " RDS          1.736858e+01\n",
       " ADMS        -5.170116e-01\n",
       " MKTS         1.573889e+00\n",
       " S_CA        -2.676515e-02\n",
       " S_FL         7.490466e-02\n",
       " S_NY        -4.931619e-02\n",
       " dtype: float64,\n",
       " Intercept    1.000000e+00\n",
       " RDS          2.578772e-21\n",
       " ADMS         6.077373e-01\n",
       " MKTS         1.226769e-01\n",
       " S_CA         9.787681e-01\n",
       " S_FL         9.406301e-01\n",
       " S_NY         9.608905e-01\n",
       " dtype: float64)"
      ]
     },
     "execution_count": 22,
     "metadata": {},
     "output_type": "execute_result"
    }
   ],
   "source": [
    "model_1 = smf.ols(\"Profit~RDS+ADMS+MKTS+S_CA+S_FL+S_NY\", data=std_data).fit()\n",
    "model_1.tvalues, model_1.pvalues"
   ]
  },
  {
   "cell_type": "code",
   "execution_count": 23,
   "id": "43044dcd",
   "metadata": {},
   "outputs": [
    {
     "data": {
      "text/plain": [
       "(0.9507524843355148, 0.945156175737278)"
      ]
     },
     "execution_count": 23,
     "metadata": {},
     "output_type": "execute_result"
    }
   ],
   "source": [
    "model_1.rsquared, model_1.rsquared_adj"
   ]
  },
  {
   "cell_type": "code",
   "execution_count": 24,
   "id": "58586775",
   "metadata": {},
   "outputs": [
    {
     "data": {
      "text/html": [
       "<table class=\"simpletable\">\n",
       "<caption>OLS Regression Results</caption>\n",
       "<tr>\n",
       "  <th>Dep. Variable:</th>         <td>Profit</td>      <th>  R-squared:         </th> <td>   0.951</td>\n",
       "</tr>\n",
       "<tr>\n",
       "  <th>Model:</th>                   <td>OLS</td>       <th>  Adj. R-squared:    </th> <td>   0.945</td>\n",
       "</tr>\n",
       "<tr>\n",
       "  <th>Method:</th>             <td>Least Squares</td>  <th>  F-statistic:       </th> <td>   169.9</td>\n",
       "</tr>\n",
       "<tr>\n",
       "  <th>Date:</th>             <td>Mon, 13 Jun 2022</td> <th>  Prob (F-statistic):</th> <td>1.34e-27</td>\n",
       "</tr>\n",
       "<tr>\n",
       "  <th>Time:</th>                 <td>10:57:17</td>     <th>  Log-Likelihood:    </th> <td>  4.3255</td>\n",
       "</tr>\n",
       "<tr>\n",
       "  <th>No. Observations:</th>      <td>    50</td>      <th>  AIC:               </th> <td>   3.349</td>\n",
       "</tr>\n",
       "<tr>\n",
       "  <th>Df Residuals:</th>          <td>    44</td>      <th>  BIC:               </th> <td>   14.82</td>\n",
       "</tr>\n",
       "<tr>\n",
       "  <th>Df Model:</th>              <td>     5</td>      <th>                     </th>     <td> </td>   \n",
       "</tr>\n",
       "<tr>\n",
       "  <th>Covariance Type:</th>      <td>nonrobust</td>    <th>                     </th>     <td> </td>   \n",
       "</tr>\n",
       "</table>\n",
       "<table class=\"simpletable\">\n",
       "<tr>\n",
       "      <td></td>         <th>coef</th>     <th>std err</th>      <th>t</th>      <th>P>|t|</th>  <th>[0.025</th>    <th>0.975]</th>  \n",
       "</tr>\n",
       "<tr>\n",
       "  <th>Intercept</th> <td>-5.343e-16</td> <td>    0.033</td> <td> -1.6e-14</td> <td> 1.000</td> <td>   -0.067</td> <td>    0.067</td>\n",
       "</tr>\n",
       "<tr>\n",
       "  <th>RDS</th>       <td>    0.9179</td> <td>    0.053</td> <td>   17.369</td> <td> 0.000</td> <td>    0.811</td> <td>    1.024</td>\n",
       "</tr>\n",
       "<tr>\n",
       "  <th>ADMS</th>      <td>   -0.0188</td> <td>    0.036</td> <td>   -0.517</td> <td> 0.608</td> <td>   -0.092</td> <td>    0.054</td>\n",
       "</tr>\n",
       "<tr>\n",
       "  <th>MKTS</th>      <td>    0.0819</td> <td>    0.052</td> <td>    1.574</td> <td> 0.123</td> <td>   -0.023</td> <td>    0.187</td>\n",
       "</tr>\n",
       "<tr>\n",
       "  <th>S_CA</th>      <td>   -0.0006</td> <td>    0.023</td> <td>   -0.027</td> <td> 0.979</td> <td>   -0.046</td> <td>    0.045</td>\n",
       "</tr>\n",
       "<tr>\n",
       "  <th>S_FL</th>      <td>    0.0017</td> <td>    0.023</td> <td>    0.075</td> <td> 0.941</td> <td>   -0.045</td> <td>    0.048</td>\n",
       "</tr>\n",
       "<tr>\n",
       "  <th>S_NY</th>      <td>   -0.0011</td> <td>    0.022</td> <td>   -0.049</td> <td> 0.961</td> <td>   -0.046</td> <td>    0.044</td>\n",
       "</tr>\n",
       "</table>\n",
       "<table class=\"simpletable\">\n",
       "<tr>\n",
       "  <th>Omnibus:</th>       <td>14.782</td> <th>  Durbin-Watson:     </th> <td>   1.283</td>\n",
       "</tr>\n",
       "<tr>\n",
       "  <th>Prob(Omnibus):</th> <td> 0.001</td> <th>  Jarque-Bera (JB):  </th> <td>  21.266</td>\n",
       "</tr>\n",
       "<tr>\n",
       "  <th>Skew:</th>          <td>-0.948</td> <th>  Prob(JB):          </th> <td>2.41e-05</td>\n",
       "</tr>\n",
       "<tr>\n",
       "  <th>Kurtosis:</th>      <td> 5.572</td> <th>  Cond. No.          </th> <td>1.04e+16</td>\n",
       "</tr>\n",
       "</table><br/><br/>Notes:<br/>[1] Standard Errors assume that the covariance matrix of the errors is correctly specified.<br/>[2] The smallest eigenvalue is 8.99e-31. This might indicate that there are<br/>strong multicollinearity problems or that the design matrix is singular."
      ],
      "text/plain": [
       "<class 'statsmodels.iolib.summary.Summary'>\n",
       "\"\"\"\n",
       "                            OLS Regression Results                            \n",
       "==============================================================================\n",
       "Dep. Variable:                 Profit   R-squared:                       0.951\n",
       "Model:                            OLS   Adj. R-squared:                  0.945\n",
       "Method:                 Least Squares   F-statistic:                     169.9\n",
       "Date:                Mon, 13 Jun 2022   Prob (F-statistic):           1.34e-27\n",
       "Time:                        10:57:17   Log-Likelihood:                 4.3255\n",
       "No. Observations:                  50   AIC:                             3.349\n",
       "Df Residuals:                      44   BIC:                             14.82\n",
       "Df Model:                           5                                         \n",
       "Covariance Type:            nonrobust                                         \n",
       "==============================================================================\n",
       "                 coef    std err          t      P>|t|      [0.025      0.975]\n",
       "------------------------------------------------------------------------------\n",
       "Intercept  -5.343e-16      0.033   -1.6e-14      1.000      -0.067       0.067\n",
       "RDS            0.9179      0.053     17.369      0.000       0.811       1.024\n",
       "ADMS          -0.0188      0.036     -0.517      0.608      -0.092       0.054\n",
       "MKTS           0.0819      0.052      1.574      0.123      -0.023       0.187\n",
       "S_CA          -0.0006      0.023     -0.027      0.979      -0.046       0.045\n",
       "S_FL           0.0017      0.023      0.075      0.941      -0.045       0.048\n",
       "S_NY          -0.0011      0.022     -0.049      0.961      -0.046       0.044\n",
       "==============================================================================\n",
       "Omnibus:                       14.782   Durbin-Watson:                   1.283\n",
       "Prob(Omnibus):                  0.001   Jarque-Bera (JB):               21.266\n",
       "Skew:                          -0.948   Prob(JB):                     2.41e-05\n",
       "Kurtosis:                       5.572   Cond. No.                     1.04e+16\n",
       "==============================================================================\n",
       "\n",
       "Notes:\n",
       "[1] Standard Errors assume that the covariance matrix of the errors is correctly specified.\n",
       "[2] The smallest eigenvalue is 8.99e-31. This might indicate that there are\n",
       "strong multicollinearity problems or that the design matrix is singular.\n",
       "\"\"\""
      ]
     },
     "execution_count": 24,
     "metadata": {},
     "output_type": "execute_result"
    }
   ],
   "source": [
    "model_1.summary()"
   ]
  },
  {
   "cell_type": "markdown",
   "id": "73bdd66d",
   "metadata": {},
   "source": [
    "Observations :-\n",
    "\n",
    "1. If we observe the p values in above table, we can see that the p values are more than 0.05 for Administration, Marketing, State_California, State_Florida and State_NewYork.\n",
    "2. We need to check how these variables individually affect Profit value. \n",
    "3. So we will build a Simple Linear Regression model for each variable and check the p values."
   ]
  },
  {
   "cell_type": "markdown",
   "id": "7358c20c",
   "metadata": {},
   "source": [
    "## Simple Linear Regression between Profit and R&D Spend"
   ]
  },
  {
   "cell_type": "code",
   "execution_count": 25,
   "id": "78759949",
   "metadata": {},
   "outputs": [
    {
     "data": {
      "text/plain": [
       "(Intercept   -1.611310e-14\n",
       " RDS          2.915114e+01\n",
       " dtype: float64,\n",
       " Intercept    1.000000e+00\n",
       " RDS          3.500322e-32\n",
       " dtype: float64)"
      ]
     },
     "execution_count": 25,
     "metadata": {},
     "output_type": "execute_result"
    }
   ],
   "source": [
    "model_2 = smf.ols(\"Profit~RDS\", data=std_data).fit()\n",
    "model_2.tvalues, model_2.pvalues"
   ]
  },
  {
   "cell_type": "code",
   "execution_count": 26,
   "id": "e8ec5b72",
   "metadata": {},
   "outputs": [
    {
     "data": {
      "text/plain": [
       "(0.9465353160804392, 0.9454214684987816)"
      ]
     },
     "execution_count": 26,
     "metadata": {},
     "output_type": "execute_result"
    }
   ],
   "source": [
    "model_2.rsquared, model_2.rsquared_adj"
   ]
  },
  {
   "cell_type": "code",
   "execution_count": 27,
   "id": "e86fcc0c",
   "metadata": {},
   "outputs": [
    {
     "data": {
      "text/html": [
       "<table class=\"simpletable\">\n",
       "<caption>OLS Regression Results</caption>\n",
       "<tr>\n",
       "  <th>Dep. Variable:</th>         <td>Profit</td>      <th>  R-squared:         </th> <td>   0.947</td>\n",
       "</tr>\n",
       "<tr>\n",
       "  <th>Model:</th>                   <td>OLS</td>       <th>  Adj. R-squared:    </th> <td>   0.945</td>\n",
       "</tr>\n",
       "<tr>\n",
       "  <th>Method:</th>             <td>Least Squares</td>  <th>  F-statistic:       </th> <td>   849.8</td>\n",
       "</tr>\n",
       "<tr>\n",
       "  <th>Date:</th>             <td>Mon, 13 Jun 2022</td> <th>  Prob (F-statistic):</th> <td>3.50e-32</td>\n",
       "</tr>\n",
       "<tr>\n",
       "  <th>Time:</th>                 <td>10:57:17</td>     <th>  Log-Likelihood:    </th> <td>  2.2714</td>\n",
       "</tr>\n",
       "<tr>\n",
       "  <th>No. Observations:</th>      <td>    50</td>      <th>  AIC:               </th> <td> -0.5428</td>\n",
       "</tr>\n",
       "<tr>\n",
       "  <th>Df Residuals:</th>          <td>    48</td>      <th>  BIC:               </th> <td>   3.281</td>\n",
       "</tr>\n",
       "<tr>\n",
       "  <th>Df Model:</th>              <td>     1</td>      <th>                     </th>     <td> </td>   \n",
       "</tr>\n",
       "<tr>\n",
       "  <th>Covariance Type:</th>      <td>nonrobust</td>    <th>                     </th>     <td> </td>   \n",
       "</tr>\n",
       "</table>\n",
       "<table class=\"simpletable\">\n",
       "<tr>\n",
       "      <td></td>         <th>coef</th>     <th>std err</th>      <th>t</th>      <th>P>|t|</th>  <th>[0.025</th>    <th>0.975]</th>  \n",
       "</tr>\n",
       "<tr>\n",
       "  <th>Intercept</th> <td>-5.378e-16</td> <td>    0.033</td> <td>-1.61e-14</td> <td> 1.000</td> <td>   -0.067</td> <td>    0.067</td>\n",
       "</tr>\n",
       "<tr>\n",
       "  <th>RDS</th>       <td>    0.9729</td> <td>    0.033</td> <td>   29.151</td> <td> 0.000</td> <td>    0.906</td> <td>    1.040</td>\n",
       "</tr>\n",
       "</table>\n",
       "<table class=\"simpletable\">\n",
       "<tr>\n",
       "  <th>Omnibus:</th>       <td>13.727</td> <th>  Durbin-Watson:     </th> <td>   1.116</td>\n",
       "</tr>\n",
       "<tr>\n",
       "  <th>Prob(Omnibus):</th> <td> 0.001</td> <th>  Jarque-Bera (JB):  </th> <td>  18.536</td>\n",
       "</tr>\n",
       "<tr>\n",
       "  <th>Skew:</th>          <td>-0.911</td> <th>  Prob(JB):          </th> <td>9.44e-05</td>\n",
       "</tr>\n",
       "<tr>\n",
       "  <th>Kurtosis:</th>      <td> 5.361</td> <th>  Cond. No.          </th> <td>    1.00</td>\n",
       "</tr>\n",
       "</table><br/><br/>Notes:<br/>[1] Standard Errors assume that the covariance matrix of the errors is correctly specified."
      ],
      "text/plain": [
       "<class 'statsmodels.iolib.summary.Summary'>\n",
       "\"\"\"\n",
       "                            OLS Regression Results                            \n",
       "==============================================================================\n",
       "Dep. Variable:                 Profit   R-squared:                       0.947\n",
       "Model:                            OLS   Adj. R-squared:                  0.945\n",
       "Method:                 Least Squares   F-statistic:                     849.8\n",
       "Date:                Mon, 13 Jun 2022   Prob (F-statistic):           3.50e-32\n",
       "Time:                        10:57:17   Log-Likelihood:                 2.2714\n",
       "No. Observations:                  50   AIC:                           -0.5428\n",
       "Df Residuals:                      48   BIC:                             3.281\n",
       "Df Model:                           1                                         \n",
       "Covariance Type:            nonrobust                                         \n",
       "==============================================================================\n",
       "                 coef    std err          t      P>|t|      [0.025      0.975]\n",
       "------------------------------------------------------------------------------\n",
       "Intercept  -5.378e-16      0.033  -1.61e-14      1.000      -0.067       0.067\n",
       "RDS            0.9729      0.033     29.151      0.000       0.906       1.040\n",
       "==============================================================================\n",
       "Omnibus:                       13.727   Durbin-Watson:                   1.116\n",
       "Prob(Omnibus):                  0.001   Jarque-Bera (JB):               18.536\n",
       "Skew:                          -0.911   Prob(JB):                     9.44e-05\n",
       "Kurtosis:                       5.361   Cond. No.                         1.00\n",
       "==============================================================================\n",
       "\n",
       "Notes:\n",
       "[1] Standard Errors assume that the covariance matrix of the errors is correctly specified.\n",
       "\"\"\""
      ]
     },
     "execution_count": 27,
     "metadata": {},
     "output_type": "execute_result"
    }
   ],
   "source": [
    "model_2.summary()"
   ]
  },
  {
   "cell_type": "markdown",
   "id": "ad177099",
   "metadata": {},
   "source": [
    "Observations :-\n",
    "    \n",
    "1. p_value < 0.05\n",
    "2. R_Square = 0.947\n",
    "3. The correlation value between Profit and R&D Spend = 0.97\n",
    "\n",
    "Hence we can say that profit is actually dependent on R&D Spend."
   ]
  },
  {
   "cell_type": "markdown",
   "id": "e63587d5",
   "metadata": {},
   "source": [
    "## Simple Linear Regression between Profit and Administration"
   ]
  },
  {
   "cell_type": "code",
   "execution_count": 28,
   "id": "3fc77c21",
   "metadata": {},
   "outputs": [
    {
     "data": {
      "text/plain": [
       "(Intercept   -3.803136e-15\n",
       " ADMS         1.419493e+00\n",
       " dtype: float64,\n",
       " Intercept    1.000000\n",
       " ADMS         0.162217\n",
       " dtype: float64)"
      ]
     },
     "execution_count": 28,
     "metadata": {},
     "output_type": "execute_result"
    }
   ],
   "source": [
    "model_3 = smf.ols(\"Profit~ADMS\", data=std_data).fit()\n",
    "model_3.tvalues, model_3.pvalues"
   ]
  },
  {
   "cell_type": "code",
   "execution_count": 29,
   "id": "abab5397",
   "metadata": {},
   "outputs": [
    {
     "data": {
      "text/plain": [
       "(0.04028714077757234, 0.020293122877105163)"
      ]
     },
     "execution_count": 29,
     "metadata": {},
     "output_type": "execute_result"
    }
   ],
   "source": [
    "model_3.rsquared, model_3.rsquared_adj"
   ]
  },
  {
   "cell_type": "code",
   "execution_count": 30,
   "id": "c934f289",
   "metadata": {},
   "outputs": [
    {
     "data": {
      "text/html": [
       "<table class=\"simpletable\">\n",
       "<caption>OLS Regression Results</caption>\n",
       "<tr>\n",
       "  <th>Dep. Variable:</th>         <td>Profit</td>      <th>  R-squared:         </th> <td>   0.040</td>\n",
       "</tr>\n",
       "<tr>\n",
       "  <th>Model:</th>                   <td>OLS</td>       <th>  Adj. R-squared:    </th> <td>   0.020</td>\n",
       "</tr>\n",
       "<tr>\n",
       "  <th>Method:</th>             <td>Least Squares</td>  <th>  F-statistic:       </th> <td>   2.015</td>\n",
       "</tr>\n",
       "<tr>\n",
       "  <th>Date:</th>             <td>Mon, 13 Jun 2022</td> <th>  Prob (F-statistic):</th>  <td> 0.162</td> \n",
       "</tr>\n",
       "<tr>\n",
       "  <th>Time:</th>                 <td>10:57:18</td>     <th>  Log-Likelihood:    </th> <td> -69.919</td>\n",
       "</tr>\n",
       "<tr>\n",
       "  <th>No. Observations:</th>      <td>    50</td>      <th>  AIC:               </th> <td>   143.8</td>\n",
       "</tr>\n",
       "<tr>\n",
       "  <th>Df Residuals:</th>          <td>    48</td>      <th>  BIC:               </th> <td>   147.7</td>\n",
       "</tr>\n",
       "<tr>\n",
       "  <th>Df Model:</th>              <td>     1</td>      <th>                     </th>     <td> </td>   \n",
       "</tr>\n",
       "<tr>\n",
       "  <th>Covariance Type:</th>      <td>nonrobust</td>    <th>                     </th>     <td> </td>   \n",
       "</tr>\n",
       "</table>\n",
       "<table class=\"simpletable\">\n",
       "<tr>\n",
       "      <td></td>         <th>coef</th>     <th>std err</th>      <th>t</th>      <th>P>|t|</th>  <th>[0.025</th>    <th>0.975]</th>  \n",
       "</tr>\n",
       "<tr>\n",
       "  <th>Intercept</th> <td>-5.378e-16</td> <td>    0.141</td> <td> -3.8e-15</td> <td> 1.000</td> <td>   -0.284</td> <td>    0.284</td>\n",
       "</tr>\n",
       "<tr>\n",
       "  <th>ADMS</th>      <td>    0.2007</td> <td>    0.141</td> <td>    1.419</td> <td> 0.162</td> <td>   -0.084</td> <td>    0.485</td>\n",
       "</tr>\n",
       "</table>\n",
       "<table class=\"simpletable\">\n",
       "<tr>\n",
       "  <th>Omnibus:</th>       <td> 0.126</td> <th>  Durbin-Watson:     </th> <td>   0.099</td>\n",
       "</tr>\n",
       "<tr>\n",
       "  <th>Prob(Omnibus):</th> <td> 0.939</td> <th>  Jarque-Bera (JB):  </th> <td>   0.110</td>\n",
       "</tr>\n",
       "<tr>\n",
       "  <th>Skew:</th>          <td> 0.093</td> <th>  Prob(JB):          </th> <td>   0.947</td>\n",
       "</tr>\n",
       "<tr>\n",
       "  <th>Kurtosis:</th>      <td> 2.866</td> <th>  Cond. No.          </th> <td>    1.00</td>\n",
       "</tr>\n",
       "</table><br/><br/>Notes:<br/>[1] Standard Errors assume that the covariance matrix of the errors is correctly specified."
      ],
      "text/plain": [
       "<class 'statsmodels.iolib.summary.Summary'>\n",
       "\"\"\"\n",
       "                            OLS Regression Results                            \n",
       "==============================================================================\n",
       "Dep. Variable:                 Profit   R-squared:                       0.040\n",
       "Model:                            OLS   Adj. R-squared:                  0.020\n",
       "Method:                 Least Squares   F-statistic:                     2.015\n",
       "Date:                Mon, 13 Jun 2022   Prob (F-statistic):              0.162\n",
       "Time:                        10:57:18   Log-Likelihood:                -69.919\n",
       "No. Observations:                  50   AIC:                             143.8\n",
       "Df Residuals:                      48   BIC:                             147.7\n",
       "Df Model:                           1                                         \n",
       "Covariance Type:            nonrobust                                         \n",
       "==============================================================================\n",
       "                 coef    std err          t      P>|t|      [0.025      0.975]\n",
       "------------------------------------------------------------------------------\n",
       "Intercept  -5.378e-16      0.141   -3.8e-15      1.000      -0.284       0.284\n",
       "ADMS           0.2007      0.141      1.419      0.162      -0.084       0.485\n",
       "==============================================================================\n",
       "Omnibus:                        0.126   Durbin-Watson:                   0.099\n",
       "Prob(Omnibus):                  0.939   Jarque-Bera (JB):                0.110\n",
       "Skew:                           0.093   Prob(JB):                        0.947\n",
       "Kurtosis:                       2.866   Cond. No.                         1.00\n",
       "==============================================================================\n",
       "\n",
       "Notes:\n",
       "[1] Standard Errors assume that the covariance matrix of the errors is correctly specified.\n",
       "\"\"\""
      ]
     },
     "execution_count": 30,
     "metadata": {},
     "output_type": "execute_result"
    }
   ],
   "source": [
    "model_3.summary()"
   ]
  },
  {
   "cell_type": "markdown",
   "id": "673af234",
   "metadata": {},
   "source": [
    "Observations :-\n",
    "\n",
    "1. p_value > 0.05\n",
    "2. R_Square = 0.040\n",
    "3. The correlation value between Profit and R&D Spend = 0.20\n",
    "\n",
    "Hence we can say that the Administration variable is not important in predicting the Profit values."
   ]
  },
  {
   "cell_type": "markdown",
   "id": "d8ef789c",
   "metadata": {},
   "source": [
    "## Simple Linear Regression between Profit and Marketing Spend"
   ]
  },
  {
   "cell_type": "code",
   "execution_count": 31,
   "id": "47675b61",
   "metadata": {},
   "outputs": [
    {
     "data": {
      "text/plain": [
       "(Intercept   -5.611370e-15\n",
       " MKTS         7.802657e+00\n",
       " dtype: float64,\n",
       " Intercept    1.000000e+00\n",
       " MKTS         4.381073e-10\n",
       " dtype: float64)"
      ]
     },
     "execution_count": 31,
     "metadata": {},
     "output_type": "execute_result"
    }
   ],
   "source": [
    "model_4 = smf.ols(\"Profit~MKTS\", data=std_data).fit()\n",
    "model_4.tvalues, model_4.pvalues"
   ]
  },
  {
   "cell_type": "code",
   "execution_count": 32,
   "id": "85156d02",
   "metadata": {},
   "outputs": [
    {
     "data": {
      "text/plain": [
       "(0.5591535746115515, 0.5499692740826254)"
      ]
     },
     "execution_count": 32,
     "metadata": {},
     "output_type": "execute_result"
    }
   ],
   "source": [
    "model_4.rsquared, model_4.rsquared_adj"
   ]
  },
  {
   "cell_type": "code",
   "execution_count": 33,
   "id": "78fbbabd",
   "metadata": {},
   "outputs": [
    {
     "data": {
      "text/html": [
       "<table class=\"simpletable\">\n",
       "<caption>OLS Regression Results</caption>\n",
       "<tr>\n",
       "  <th>Dep. Variable:</th>         <td>Profit</td>      <th>  R-squared:         </th> <td>   0.559</td>\n",
       "</tr>\n",
       "<tr>\n",
       "  <th>Model:</th>                   <td>OLS</td>       <th>  Adj. R-squared:    </th> <td>   0.550</td>\n",
       "</tr>\n",
       "<tr>\n",
       "  <th>Method:</th>             <td>Least Squares</td>  <th>  F-statistic:       </th> <td>   60.88</td>\n",
       "</tr>\n",
       "<tr>\n",
       "  <th>Date:</th>             <td>Mon, 13 Jun 2022</td> <th>  Prob (F-statistic):</th> <td>4.38e-10</td>\n",
       "</tr>\n",
       "<tr>\n",
       "  <th>Time:</th>                 <td>10:57:19</td>     <th>  Log-Likelihood:    </th> <td> -50.470</td>\n",
       "</tr>\n",
       "<tr>\n",
       "  <th>No. Observations:</th>      <td>    50</td>      <th>  AIC:               </th> <td>   104.9</td>\n",
       "</tr>\n",
       "<tr>\n",
       "  <th>Df Residuals:</th>          <td>    48</td>      <th>  BIC:               </th> <td>   108.8</td>\n",
       "</tr>\n",
       "<tr>\n",
       "  <th>Df Model:</th>              <td>     1</td>      <th>                     </th>     <td> </td>   \n",
       "</tr>\n",
       "<tr>\n",
       "  <th>Covariance Type:</th>      <td>nonrobust</td>    <th>                     </th>     <td> </td>   \n",
       "</tr>\n",
       "</table>\n",
       "<table class=\"simpletable\">\n",
       "<tr>\n",
       "      <td></td>         <th>coef</th>     <th>std err</th>      <th>t</th>      <th>P>|t|</th>  <th>[0.025</th>    <th>0.975]</th>  \n",
       "</tr>\n",
       "<tr>\n",
       "  <th>Intercept</th> <td>-5.378e-16</td> <td>    0.096</td> <td>-5.61e-15</td> <td> 1.000</td> <td>   -0.193</td> <td>    0.193</td>\n",
       "</tr>\n",
       "<tr>\n",
       "  <th>MKTS</th>      <td>    0.7478</td> <td>    0.096</td> <td>    7.803</td> <td> 0.000</td> <td>    0.555</td> <td>    0.940</td>\n",
       "</tr>\n",
       "</table>\n",
       "<table class=\"simpletable\">\n",
       "<tr>\n",
       "  <th>Omnibus:</th>       <td> 4.420</td> <th>  Durbin-Watson:     </th> <td>   1.178</td>\n",
       "</tr>\n",
       "<tr>\n",
       "  <th>Prob(Omnibus):</th> <td> 0.110</td> <th>  Jarque-Bera (JB):  </th> <td>   3.882</td>\n",
       "</tr>\n",
       "<tr>\n",
       "  <th>Skew:</th>          <td>-0.336</td> <th>  Prob(JB):          </th> <td>   0.144</td>\n",
       "</tr>\n",
       "<tr>\n",
       "  <th>Kurtosis:</th>      <td> 4.188</td> <th>  Cond. No.          </th> <td>    1.00</td>\n",
       "</tr>\n",
       "</table><br/><br/>Notes:<br/>[1] Standard Errors assume that the covariance matrix of the errors is correctly specified."
      ],
      "text/plain": [
       "<class 'statsmodels.iolib.summary.Summary'>\n",
       "\"\"\"\n",
       "                            OLS Regression Results                            \n",
       "==============================================================================\n",
       "Dep. Variable:                 Profit   R-squared:                       0.559\n",
       "Model:                            OLS   Adj. R-squared:                  0.550\n",
       "Method:                 Least Squares   F-statistic:                     60.88\n",
       "Date:                Mon, 13 Jun 2022   Prob (F-statistic):           4.38e-10\n",
       "Time:                        10:57:19   Log-Likelihood:                -50.470\n",
       "No. Observations:                  50   AIC:                             104.9\n",
       "Df Residuals:                      48   BIC:                             108.8\n",
       "Df Model:                           1                                         \n",
       "Covariance Type:            nonrobust                                         \n",
       "==============================================================================\n",
       "                 coef    std err          t      P>|t|      [0.025      0.975]\n",
       "------------------------------------------------------------------------------\n",
       "Intercept  -5.378e-16      0.096  -5.61e-15      1.000      -0.193       0.193\n",
       "MKTS           0.7478      0.096      7.803      0.000       0.555       0.940\n",
       "==============================================================================\n",
       "Omnibus:                        4.420   Durbin-Watson:                   1.178\n",
       "Prob(Omnibus):                  0.110   Jarque-Bera (JB):                3.882\n",
       "Skew:                          -0.336   Prob(JB):                        0.144\n",
       "Kurtosis:                       4.188   Cond. No.                         1.00\n",
       "==============================================================================\n",
       "\n",
       "Notes:\n",
       "[1] Standard Errors assume that the covariance matrix of the errors is correctly specified.\n",
       "\"\"\""
      ]
     },
     "execution_count": 33,
     "metadata": {},
     "output_type": "execute_result"
    }
   ],
   "source": [
    "model_4.summary()"
   ]
  },
  {
   "cell_type": "markdown",
   "id": "f58ffe2d",
   "metadata": {},
   "source": [
    "Observations :-\n",
    "\n",
    "1. p_value < 0.05\n",
    "2. R_Square = 0.559 \n",
    "3. The correlation value between Profit and R&D Spend = 0.75\n",
    "\n",
    "\n",
    "Hence we can say that the Profit is actually dependent on Marketing Spend.\n",
    "\n",
    "But when we used Marketing Spend to fit the \"model_1\" the p -value came as 0.123 (greater than 0.05). \n",
    "This means that Marketing Spend individually is affecting the Profit but when it is used by other features it is not. \n",
    "\n",
    "So we can say there is a chances of multicollinearity problem."
   ]
  },
  {
   "cell_type": "markdown",
   "id": "4d7af171",
   "metadata": {},
   "source": [
    "## Simple Linear Regression between Profit and State_California"
   ]
  },
  {
   "cell_type": "code",
   "execution_count": 34,
   "id": "cdaf1d46",
   "metadata": {},
   "outputs": [
    {
     "data": {
      "text/plain": [
       "(Intercept   -3.766004e-15\n",
       " S_CA        -1.021308e+00\n",
       " dtype: float64,\n",
       " Intercept    1.000000\n",
       " S_CA         0.312229\n",
       " dtype: float64)"
      ]
     },
     "execution_count": 34,
     "metadata": {},
     "output_type": "execute_result"
    }
   ],
   "source": [
    "model_5 = smf.ols(\"Profit~S_CA\", data=std_data).fit()\n",
    "model_5.tvalues, model_5.pvalues"
   ]
  },
  {
   "cell_type": "code",
   "execution_count": 35,
   "id": "8d91e2dc",
   "metadata": {},
   "outputs": [
    {
     "data": {
      "text/plain": [
       "(0.021268441461161802, 0.0008782006582693791)"
      ]
     },
     "execution_count": 35,
     "metadata": {},
     "output_type": "execute_result"
    }
   ],
   "source": [
    "model_5.rsquared, model_5.rsquared_adj"
   ]
  },
  {
   "cell_type": "code",
   "execution_count": 36,
   "id": "6cf95551",
   "metadata": {},
   "outputs": [
    {
     "data": {
      "text/html": [
       "<table class=\"simpletable\">\n",
       "<caption>OLS Regression Results</caption>\n",
       "<tr>\n",
       "  <th>Dep. Variable:</th>         <td>Profit</td>      <th>  R-squared:         </th> <td>   0.021</td>\n",
       "</tr>\n",
       "<tr>\n",
       "  <th>Model:</th>                   <td>OLS</td>       <th>  Adj. R-squared:    </th> <td>   0.001</td>\n",
       "</tr>\n",
       "<tr>\n",
       "  <th>Method:</th>             <td>Least Squares</td>  <th>  F-statistic:       </th> <td>   1.043</td>\n",
       "</tr>\n",
       "<tr>\n",
       "  <th>Date:</th>             <td>Mon, 13 Jun 2022</td> <th>  Prob (F-statistic):</th>  <td> 0.312</td> \n",
       "</tr>\n",
       "<tr>\n",
       "  <th>Time:</th>                 <td>10:57:20</td>     <th>  Log-Likelihood:    </th> <td> -70.409</td>\n",
       "</tr>\n",
       "<tr>\n",
       "  <th>No. Observations:</th>      <td>    50</td>      <th>  AIC:               </th> <td>   144.8</td>\n",
       "</tr>\n",
       "<tr>\n",
       "  <th>Df Residuals:</th>          <td>    48</td>      <th>  BIC:               </th> <td>   148.6</td>\n",
       "</tr>\n",
       "<tr>\n",
       "  <th>Df Model:</th>              <td>     1</td>      <th>                     </th>     <td> </td>   \n",
       "</tr>\n",
       "<tr>\n",
       "  <th>Covariance Type:</th>      <td>nonrobust</td>    <th>                     </th>     <td> </td>   \n",
       "</tr>\n",
       "</table>\n",
       "<table class=\"simpletable\">\n",
       "<tr>\n",
       "      <td></td>         <th>coef</th>     <th>std err</th>      <th>t</th>      <th>P>|t|</th>  <th>[0.025</th>    <th>0.975]</th>  \n",
       "</tr>\n",
       "<tr>\n",
       "  <th>Intercept</th> <td>-5.378e-16</td> <td>    0.143</td> <td>-3.77e-15</td> <td> 1.000</td> <td>   -0.287</td> <td>    0.287</td>\n",
       "</tr>\n",
       "<tr>\n",
       "  <th>S_CA</th>      <td>   -0.1458</td> <td>    0.143</td> <td>   -1.021</td> <td> 0.312</td> <td>   -0.433</td> <td>    0.141</td>\n",
       "</tr>\n",
       "</table>\n",
       "<table class=\"simpletable\">\n",
       "<tr>\n",
       "  <th>Omnibus:</th>       <td> 0.079</td> <th>  Durbin-Watson:     </th> <td>   0.073</td>\n",
       "</tr>\n",
       "<tr>\n",
       "  <th>Prob(Omnibus):</th> <td> 0.961</td> <th>  Jarque-Bera (JB):  </th> <td>   0.190</td>\n",
       "</tr>\n",
       "<tr>\n",
       "  <th>Skew:</th>          <td> 0.087</td> <th>  Prob(JB):          </th> <td>   0.909</td>\n",
       "</tr>\n",
       "<tr>\n",
       "  <th>Kurtosis:</th>      <td> 2.753</td> <th>  Cond. No.          </th> <td>    1.00</td>\n",
       "</tr>\n",
       "</table><br/><br/>Notes:<br/>[1] Standard Errors assume that the covariance matrix of the errors is correctly specified."
      ],
      "text/plain": [
       "<class 'statsmodels.iolib.summary.Summary'>\n",
       "\"\"\"\n",
       "                            OLS Regression Results                            \n",
       "==============================================================================\n",
       "Dep. Variable:                 Profit   R-squared:                       0.021\n",
       "Model:                            OLS   Adj. R-squared:                  0.001\n",
       "Method:                 Least Squares   F-statistic:                     1.043\n",
       "Date:                Mon, 13 Jun 2022   Prob (F-statistic):              0.312\n",
       "Time:                        10:57:20   Log-Likelihood:                -70.409\n",
       "No. Observations:                  50   AIC:                             144.8\n",
       "Df Residuals:                      48   BIC:                             148.6\n",
       "Df Model:                           1                                         \n",
       "Covariance Type:            nonrobust                                         \n",
       "==============================================================================\n",
       "                 coef    std err          t      P>|t|      [0.025      0.975]\n",
       "------------------------------------------------------------------------------\n",
       "Intercept  -5.378e-16      0.143  -3.77e-15      1.000      -0.287       0.287\n",
       "S_CA          -0.1458      0.143     -1.021      0.312      -0.433       0.141\n",
       "==============================================================================\n",
       "Omnibus:                        0.079   Durbin-Watson:                   0.073\n",
       "Prob(Omnibus):                  0.961   Jarque-Bera (JB):                0.190\n",
       "Skew:                           0.087   Prob(JB):                        0.909\n",
       "Kurtosis:                       2.753   Cond. No.                         1.00\n",
       "==============================================================================\n",
       "\n",
       "Notes:\n",
       "[1] Standard Errors assume that the covariance matrix of the errors is correctly specified.\n",
       "\"\"\""
      ]
     },
     "execution_count": 36,
     "metadata": {},
     "output_type": "execute_result"
    }
   ],
   "source": [
    "model_5.summary()"
   ]
  },
  {
   "cell_type": "markdown",
   "id": "bfd7cb81",
   "metadata": {},
   "source": [
    "Observations :-\n",
    "\n",
    "1. p_value > 0.05\n",
    "2. R_Square = 0.021\n",
    "3. The correlation value between Profit and R&D Spend = -0.15\n",
    "\n",
    "Hence we can say that the Profit is actually not dependent on State_California variable."
   ]
  },
  {
   "cell_type": "markdown",
   "id": "0e1e2247",
   "metadata": {},
   "source": [
    "## Simple Linear Regression between Profit and State_Florida"
   ]
  },
  {
   "cell_type": "code",
   "execution_count": 37,
   "id": "f495ee54",
   "metadata": {},
   "outputs": [
    {
     "data": {
      "text/plain": [
       "(Intercept   -3.751171e-15\n",
       " S_FL         8.108610e-01\n",
       " dtype: float64,\n",
       " Intercept    1.000000\n",
       " S_FL         0.421448\n",
       " dtype: float64)"
      ]
     },
     "execution_count": 37,
     "metadata": {},
     "output_type": "execute_result"
    }
   ],
   "source": [
    "model_6 = smf.ols(\"Profit~S_FL\", data=std_data).fit()\n",
    "model_6.tvalues, model_6.pvalues"
   ]
  },
  {
   "cell_type": "code",
   "execution_count": 38,
   "id": "8a2ddb79",
   "metadata": {},
   "outputs": [
    {
     "data": {
      "text/plain": [
       "(0.013512728677721686, -0.007039089474825788)"
      ]
     },
     "execution_count": 38,
     "metadata": {},
     "output_type": "execute_result"
    }
   ],
   "source": [
    "model_6.rsquared, model_6.rsquared_adj"
   ]
  },
  {
   "cell_type": "code",
   "execution_count": 39,
   "id": "7999b10b",
   "metadata": {},
   "outputs": [
    {
     "data": {
      "text/html": [
       "<table class=\"simpletable\">\n",
       "<caption>OLS Regression Results</caption>\n",
       "<tr>\n",
       "  <th>Dep. Variable:</th>         <td>Profit</td>      <th>  R-squared:         </th> <td>   0.014</td>\n",
       "</tr>\n",
       "<tr>\n",
       "  <th>Model:</th>                   <td>OLS</td>       <th>  Adj. R-squared:    </th> <td>  -0.007</td>\n",
       "</tr>\n",
       "<tr>\n",
       "  <th>Method:</th>             <td>Least Squares</td>  <th>  F-statistic:       </th> <td>  0.6575</td>\n",
       "</tr>\n",
       "<tr>\n",
       "  <th>Date:</th>             <td>Mon, 13 Jun 2022</td> <th>  Prob (F-statistic):</th>  <td> 0.421</td> \n",
       "</tr>\n",
       "<tr>\n",
       "  <th>Time:</th>                 <td>10:57:21</td>     <th>  Log-Likelihood:    </th> <td> -70.607</td>\n",
       "</tr>\n",
       "<tr>\n",
       "  <th>No. Observations:</th>      <td>    50</td>      <th>  AIC:               </th> <td>   145.2</td>\n",
       "</tr>\n",
       "<tr>\n",
       "  <th>Df Residuals:</th>          <td>    48</td>      <th>  BIC:               </th> <td>   149.0</td>\n",
       "</tr>\n",
       "<tr>\n",
       "  <th>Df Model:</th>              <td>     1</td>      <th>                     </th>     <td> </td>   \n",
       "</tr>\n",
       "<tr>\n",
       "  <th>Covariance Type:</th>      <td>nonrobust</td>    <th>                     </th>     <td> </td>   \n",
       "</tr>\n",
       "</table>\n",
       "<table class=\"simpletable\">\n",
       "<tr>\n",
       "      <td></td>         <th>coef</th>     <th>std err</th>      <th>t</th>      <th>P>|t|</th>  <th>[0.025</th>    <th>0.975]</th>  \n",
       "</tr>\n",
       "<tr>\n",
       "  <th>Intercept</th> <td>-5.378e-16</td> <td>    0.143</td> <td>-3.75e-15</td> <td> 1.000</td> <td>   -0.288</td> <td>    0.288</td>\n",
       "</tr>\n",
       "<tr>\n",
       "  <th>S_FL</th>      <td>    0.1162</td> <td>    0.143</td> <td>    0.811</td> <td> 0.421</td> <td>   -0.172</td> <td>    0.404</td>\n",
       "</tr>\n",
       "</table>\n",
       "<table class=\"simpletable\">\n",
       "<tr>\n",
       "  <th>Omnibus:</th>       <td> 0.077</td> <th>  Durbin-Watson:     </th> <td>   0.058</td>\n",
       "</tr>\n",
       "<tr>\n",
       "  <th>Prob(Omnibus):</th> <td> 0.962</td> <th>  Jarque-Bera (JB):  </th> <td>   0.123</td>\n",
       "</tr>\n",
       "<tr>\n",
       "  <th>Skew:</th>          <td> 0.080</td> <th>  Prob(JB):          </th> <td>   0.940</td>\n",
       "</tr>\n",
       "<tr>\n",
       "  <th>Kurtosis:</th>      <td> 2.817</td> <th>  Cond. No.          </th> <td>    1.00</td>\n",
       "</tr>\n",
       "</table><br/><br/>Notes:<br/>[1] Standard Errors assume that the covariance matrix of the errors is correctly specified."
      ],
      "text/plain": [
       "<class 'statsmodels.iolib.summary.Summary'>\n",
       "\"\"\"\n",
       "                            OLS Regression Results                            \n",
       "==============================================================================\n",
       "Dep. Variable:                 Profit   R-squared:                       0.014\n",
       "Model:                            OLS   Adj. R-squared:                 -0.007\n",
       "Method:                 Least Squares   F-statistic:                    0.6575\n",
       "Date:                Mon, 13 Jun 2022   Prob (F-statistic):              0.421\n",
       "Time:                        10:57:21   Log-Likelihood:                -70.607\n",
       "No. Observations:                  50   AIC:                             145.2\n",
       "Df Residuals:                      48   BIC:                             149.0\n",
       "Df Model:                           1                                         \n",
       "Covariance Type:            nonrobust                                         \n",
       "==============================================================================\n",
       "                 coef    std err          t      P>|t|      [0.025      0.975]\n",
       "------------------------------------------------------------------------------\n",
       "Intercept  -5.378e-16      0.143  -3.75e-15      1.000      -0.288       0.288\n",
       "S_FL           0.1162      0.143      0.811      0.421      -0.172       0.404\n",
       "==============================================================================\n",
       "Omnibus:                        0.077   Durbin-Watson:                   0.058\n",
       "Prob(Omnibus):                  0.962   Jarque-Bera (JB):                0.123\n",
       "Skew:                           0.080   Prob(JB):                        0.940\n",
       "Kurtosis:                       2.817   Cond. No.                         1.00\n",
       "==============================================================================\n",
       "\n",
       "Notes:\n",
       "[1] Standard Errors assume that the covariance matrix of the errors is correctly specified.\n",
       "\"\"\""
      ]
     },
     "execution_count": 39,
     "metadata": {},
     "output_type": "execute_result"
    }
   ],
   "source": [
    "model_6.summary()"
   ]
  },
  {
   "cell_type": "markdown",
   "id": "8b467e50",
   "metadata": {},
   "source": [
    "Observations :-\n",
    "\n",
    "1. p_value > 0.05\n",
    "2. R_Square = 0.014\n",
    "3. The correlation value between Profit and R&D Spend = 0.12\n",
    "\n",
    "Hence we can say that the Profit is actually not dependent on State_Florida variable."
   ]
  },
  {
   "cell_type": "markdown",
   "id": "331072d6",
   "metadata": {},
   "source": [
    "## Simple Linear Regression between Profit and State_NewYork"
   ]
  },
  {
   "cell_type": "code",
   "execution_count": 40,
   "id": "dfa61e1d",
   "metadata": {},
   "outputs": [
    {
     "data": {
      "text/plain": [
       "(Intercept   -3.727574e-15\n",
       " S_NY         2.174281e-01\n",
       " dtype: float64,\n",
       " Intercept    1.000000\n",
       " S_NY         0.828796\n",
       " dtype: float64)"
      ]
     },
     "execution_count": 40,
     "metadata": {},
     "output_type": "execute_result"
    }
   ],
   "source": [
    "model_7 = smf.ols(\"Profit~S_NY\", data=std_data).fit()\n",
    "model_7.tvalues, model_7.pvalues"
   ]
  },
  {
   "cell_type": "code",
   "execution_count": 41,
   "id": "61b32c41",
   "metadata": {},
   "outputs": [
    {
     "data": {
      "text/plain": [
       "(0.0009839263392518172, -0.019828908528680467)"
      ]
     },
     "execution_count": 41,
     "metadata": {},
     "output_type": "execute_result"
    }
   ],
   "source": [
    "model_7.rsquared, model_7.rsquared_adj"
   ]
  },
  {
   "cell_type": "code",
   "execution_count": 42,
   "id": "a9644e11",
   "metadata": {},
   "outputs": [
    {
     "data": {
      "text/html": [
       "<table class=\"simpletable\">\n",
       "<caption>OLS Regression Results</caption>\n",
       "<tr>\n",
       "  <th>Dep. Variable:</th>         <td>Profit</td>      <th>  R-squared:         </th> <td>   0.001</td>\n",
       "</tr>\n",
       "<tr>\n",
       "  <th>Model:</th>                   <td>OLS</td>       <th>  Adj. R-squared:    </th> <td>  -0.020</td>\n",
       "</tr>\n",
       "<tr>\n",
       "  <th>Method:</th>             <td>Least Squares</td>  <th>  F-statistic:       </th> <td> 0.04727</td>\n",
       "</tr>\n",
       "<tr>\n",
       "  <th>Date:</th>             <td>Mon, 13 Jun 2022</td> <th>  Prob (F-statistic):</th>  <td> 0.829</td> \n",
       "</tr>\n",
       "<tr>\n",
       "  <th>Time:</th>                 <td>10:57:22</td>     <th>  Log-Likelihood:    </th> <td> -70.922</td>\n",
       "</tr>\n",
       "<tr>\n",
       "  <th>No. Observations:</th>      <td>    50</td>      <th>  AIC:               </th> <td>   145.8</td>\n",
       "</tr>\n",
       "<tr>\n",
       "  <th>Df Residuals:</th>          <td>    48</td>      <th>  BIC:               </th> <td>   149.7</td>\n",
       "</tr>\n",
       "<tr>\n",
       "  <th>Df Model:</th>              <td>     1</td>      <th>                     </th>     <td> </td>   \n",
       "</tr>\n",
       "<tr>\n",
       "  <th>Covariance Type:</th>      <td>nonrobust</td>    <th>                     </th>     <td> </td>   \n",
       "</tr>\n",
       "</table>\n",
       "<table class=\"simpletable\">\n",
       "<tr>\n",
       "      <td></td>         <th>coef</th>     <th>std err</th>      <th>t</th>      <th>P>|t|</th>  <th>[0.025</th>    <th>0.975]</th>  \n",
       "</tr>\n",
       "<tr>\n",
       "  <th>Intercept</th> <td>-5.378e-16</td> <td>    0.144</td> <td>-3.73e-15</td> <td> 1.000</td> <td>   -0.290</td> <td>    0.290</td>\n",
       "</tr>\n",
       "<tr>\n",
       "  <th>S_NY</th>      <td>    0.0314</td> <td>    0.144</td> <td>    0.217</td> <td> 0.829</td> <td>   -0.259</td> <td>    0.321</td>\n",
       "</tr>\n",
       "</table>\n",
       "<table class=\"simpletable\">\n",
       "<tr>\n",
       "  <th>Omnibus:</th>       <td> 0.011</td> <th>  Durbin-Watson:     </th> <td>   0.021</td>\n",
       "</tr>\n",
       "<tr>\n",
       "  <th>Prob(Omnibus):</th> <td> 0.994</td> <th>  Jarque-Bera (JB):  </th> <td>   0.082</td>\n",
       "</tr>\n",
       "<tr>\n",
       "  <th>Skew:</th>          <td> 0.022</td> <th>  Prob(JB):          </th> <td>   0.960</td>\n",
       "</tr>\n",
       "<tr>\n",
       "  <th>Kurtosis:</th>      <td> 2.807</td> <th>  Cond. No.          </th> <td>    1.00</td>\n",
       "</tr>\n",
       "</table><br/><br/>Notes:<br/>[1] Standard Errors assume that the covariance matrix of the errors is correctly specified."
      ],
      "text/plain": [
       "<class 'statsmodels.iolib.summary.Summary'>\n",
       "\"\"\"\n",
       "                            OLS Regression Results                            \n",
       "==============================================================================\n",
       "Dep. Variable:                 Profit   R-squared:                       0.001\n",
       "Model:                            OLS   Adj. R-squared:                 -0.020\n",
       "Method:                 Least Squares   F-statistic:                   0.04727\n",
       "Date:                Mon, 13 Jun 2022   Prob (F-statistic):              0.829\n",
       "Time:                        10:57:22   Log-Likelihood:                -70.922\n",
       "No. Observations:                  50   AIC:                             145.8\n",
       "Df Residuals:                      48   BIC:                             149.7\n",
       "Df Model:                           1                                         \n",
       "Covariance Type:            nonrobust                                         \n",
       "==============================================================================\n",
       "                 coef    std err          t      P>|t|      [0.025      0.975]\n",
       "------------------------------------------------------------------------------\n",
       "Intercept  -5.378e-16      0.144  -3.73e-15      1.000      -0.290       0.290\n",
       "S_NY           0.0314      0.144      0.217      0.829      -0.259       0.321\n",
       "==============================================================================\n",
       "Omnibus:                        0.011   Durbin-Watson:                   0.021\n",
       "Prob(Omnibus):                  0.994   Jarque-Bera (JB):                0.082\n",
       "Skew:                           0.022   Prob(JB):                        0.960\n",
       "Kurtosis:                       2.807   Cond. No.                         1.00\n",
       "==============================================================================\n",
       "\n",
       "Notes:\n",
       "[1] Standard Errors assume that the covariance matrix of the errors is correctly specified.\n",
       "\"\"\""
      ]
     },
     "execution_count": 42,
     "metadata": {},
     "output_type": "execute_result"
    }
   ],
   "source": [
    "model_7.summary()"
   ]
  },
  {
   "cell_type": "markdown",
   "id": "250d311c",
   "metadata": {},
   "source": [
    "Observations :-\n",
    "\n",
    "1. p_value > 0.05\n",
    "2. R_Square = 0.001\n",
    "3. The correlation value between Profit and R&D Spend = 0.031\n",
    "\n",
    "Hence we can say that the Profit is actually not dependent on State_NewYork variable."
   ]
  },
  {
   "cell_type": "markdown",
   "id": "6863d730",
   "metadata": {},
   "source": [
    "# Calculating VIF"
   ]
  },
  {
   "cell_type": "code",
   "execution_count": 43,
   "id": "67cb4644",
   "metadata": {},
   "outputs": [
    {
     "name": "stderr",
     "output_type": "stream",
     "text": [
      "C:\\Users\\BASHAR\\AppData\\Local\\Temp/ipykernel_10880/938315734.py:11: RuntimeWarning: divide by zero encountered in double_scalars\n",
      "  vif_sca = 1/(1-rsq_sca)\n",
      "C:\\Users\\BASHAR\\AppData\\Local\\Temp/ipykernel_10880/938315734.py:14: RuntimeWarning: divide by zero encountered in double_scalars\n",
      "  vif_sfl = 1/(1-rsq_sfl)\n",
      "C:\\Users\\BASHAR\\AppData\\Local\\Temp/ipykernel_10880/938315734.py:17: RuntimeWarning: divide by zero encountered in double_scalars\n",
      "  vif_sny = 1/(1-rsq_sny)\n"
     ]
    },
    {
     "data": {
      "text/html": [
       "<div>\n",
       "<style scoped>\n",
       "    .dataframe tbody tr th:only-of-type {\n",
       "        vertical-align: middle;\n",
       "    }\n",
       "\n",
       "    .dataframe tbody tr th {\n",
       "        vertical-align: top;\n",
       "    }\n",
       "\n",
       "    .dataframe thead th {\n",
       "        text-align: right;\n",
       "    }\n",
       "</style>\n",
       "<table border=\"1\" class=\"dataframe\">\n",
       "  <thead>\n",
       "    <tr style=\"text-align: right;\">\n",
       "      <th></th>\n",
       "      <th>Features</th>\n",
       "      <th>VIF</th>\n",
       "    </tr>\n",
       "  </thead>\n",
       "  <tbody>\n",
       "    <tr>\n",
       "      <th>0</th>\n",
       "      <td>RD</td>\n",
       "      <td>2.495511</td>\n",
       "    </tr>\n",
       "    <tr>\n",
       "      <th>1</th>\n",
       "      <td>ADMS</td>\n",
       "      <td>1.177766</td>\n",
       "    </tr>\n",
       "    <tr>\n",
       "      <th>2</th>\n",
       "      <td>MKTS</td>\n",
       "      <td>2.416797</td>\n",
       "    </tr>\n",
       "    <tr>\n",
       "      <th>3</th>\n",
       "      <td>S_CA</td>\n",
       "      <td>inf</td>\n",
       "    </tr>\n",
       "    <tr>\n",
       "      <th>4</th>\n",
       "      <td>S_FL</td>\n",
       "      <td>inf</td>\n",
       "    </tr>\n",
       "    <tr>\n",
       "      <th>5</th>\n",
       "      <td>S_NY</td>\n",
       "      <td>inf</td>\n",
       "    </tr>\n",
       "  </tbody>\n",
       "</table>\n",
       "</div>"
      ],
      "text/plain": [
       "  Features       VIF\n",
       "0       RD  2.495511\n",
       "1     ADMS  1.177766\n",
       "2     MKTS  2.416797\n",
       "3     S_CA       inf\n",
       "4     S_FL       inf\n",
       "5     S_NY       inf"
      ]
     },
     "execution_count": 43,
     "metadata": {},
     "output_type": "execute_result"
    }
   ],
   "source": [
    "rsq_rds = smf.ols(\"RDS~ADMS+MKTS+S_CA+S_FL+S_NY\", data=std_data).fit().rsquared\n",
    "vif_rds = 1/(1-rsq_rds)\n",
    "\n",
    "rsq_adms = smf.ols(\"ADMS~RDS+MKTS+S_CA+S_FL+S_NY\", data=std_data).fit().rsquared\n",
    "vif_adms = 1/(1-rsq_adms)\n",
    "\n",
    "rsq_mkts = smf.ols(\"MKTS~RDS+ADMS+S_CA+S_FL+S_NY\", data=std_data).fit().rsquared\n",
    "vif_mkts = 1/(1-rsq_mkts)\n",
    "\n",
    "rsq_sca = smf.ols(\"S_CA~RDS+ADMS+MKTS+S_FL+S_NY\", data=std_data).fit().rsquared\n",
    "vif_sca = 1/(1-rsq_sca)\n",
    "\n",
    "rsq_sfl = smf.ols(\"S_FL~RDS+ADMS+MKTS+S_CA+S_NY\", data=std_data).fit().rsquared\n",
    "vif_sfl = 1/(1-rsq_sfl)\n",
    "\n",
    "rsq_sny = smf.ols(\"S_NY~RDS+ADMS+MKTS+S_CA+S_FL\", data=std_data).fit().rsquared\n",
    "vif_sny = 1/(1-rsq_sny)\n",
    "\n",
    "d1={'Features':['RD', 'ADMS', 'MKTS', 'S_CA', 'S_FL', 'S_NY'], 'VIF':[vif_rds, vif_adms, vif_mkts, vif_sca, vif_sfl, vif_sny]}\n",
    "VIF_Frame = pd.DataFrame(d1)\n",
    "VIF_Frame"
   ]
  },
  {
   "cell_type": "markdown",
   "id": "526ce6f7",
   "metadata": {},
   "source": [
    "Observations :-\n",
    "\n",
    "1. Here, VIF value is infinite for the State variables, so we can confirm collinearlity does not exist between them.\n",
    "\n",
    "2. From the above Simple Regression models and VIF values we can say that the State variables are not significant variaables for predicting the Profit values.\n",
    "\n",
    "3. We will build a model using R&D Spend, Administration, and Marketing Spend"
   ]
  },
  {
   "cell_type": "markdown",
   "id": "a5e44640",
   "metadata": {},
   "source": [
    "### Simple Linear Regression between Profit and R&D Spend, Administration, Marketing Spend."
   ]
  },
  {
   "cell_type": "code",
   "execution_count": 44,
   "id": "01b84fe6",
   "metadata": {},
   "outputs": [
    {
     "data": {
      "text/plain": [
       "(Intercept   -1.632823e-14\n",
       " RDS          1.784637e+01\n",
       " ADMS        -5.255068e-01\n",
       " MKTS         1.655077e+00\n",
       " dtype: float64,\n",
       " Intercept    1.000000e+00\n",
       " RDS          2.634968e-22\n",
       " ADMS         6.017551e-01\n",
       " MKTS         1.047168e-01\n",
       " dtype: float64)"
      ]
     },
     "execution_count": 44,
     "metadata": {},
     "output_type": "execute_result"
    }
   ],
   "source": [
    "model_8 = smf.ols(\"Profit~RDS+ADMS+MKTS\", data=std_data).fit()\n",
    "model_8.tvalues, model_8.pvalues"
   ]
  },
  {
   "cell_type": "code",
   "execution_count": 45,
   "id": "d51089c6",
   "metadata": {},
   "outputs": [
    {
     "data": {
      "text/plain": [
       "(0.9507459940683246, 0.9475337762901719)"
      ]
     },
     "execution_count": 45,
     "metadata": {},
     "output_type": "execute_result"
    }
   ],
   "source": [
    "model_8.rsquared, model_8.rsquared_adj"
   ]
  },
  {
   "cell_type": "code",
   "execution_count": 46,
   "id": "46fc0151",
   "metadata": {},
   "outputs": [
    {
     "data": {
      "text/html": [
       "<table class=\"simpletable\">\n",
       "<caption>OLS Regression Results</caption>\n",
       "<tr>\n",
       "  <th>Dep. Variable:</th>         <td>Profit</td>      <th>  R-squared:         </th> <td>   0.951</td>\n",
       "</tr>\n",
       "<tr>\n",
       "  <th>Model:</th>                   <td>OLS</td>       <th>  Adj. R-squared:    </th> <td>   0.948</td>\n",
       "</tr>\n",
       "<tr>\n",
       "  <th>Method:</th>             <td>Least Squares</td>  <th>  F-statistic:       </th> <td>   296.0</td>\n",
       "</tr>\n",
       "<tr>\n",
       "  <th>Date:</th>             <td>Mon, 13 Jun 2022</td> <th>  Prob (F-statistic):</th> <td>4.53e-30</td>\n",
       "</tr>\n",
       "<tr>\n",
       "  <th>Time:</th>                 <td>10:57:26</td>     <th>  Log-Likelihood:    </th> <td>  4.3222</td>\n",
       "</tr>\n",
       "<tr>\n",
       "  <th>No. Observations:</th>      <td>    50</td>      <th>  AIC:               </th> <td> -0.6444</td>\n",
       "</tr>\n",
       "<tr>\n",
       "  <th>Df Residuals:</th>          <td>    46</td>      <th>  BIC:               </th> <td>   7.004</td>\n",
       "</tr>\n",
       "<tr>\n",
       "  <th>Df Model:</th>              <td>     3</td>      <th>                     </th>     <td> </td>   \n",
       "</tr>\n",
       "<tr>\n",
       "  <th>Covariance Type:</th>      <td>nonrobust</td>    <th>                     </th>     <td> </td>   \n",
       "</tr>\n",
       "</table>\n",
       "<table class=\"simpletable\">\n",
       "<tr>\n",
       "      <td></td>         <th>coef</th>     <th>std err</th>      <th>t</th>      <th>P>|t|</th>  <th>[0.025</th>    <th>0.975]</th>  \n",
       "</tr>\n",
       "<tr>\n",
       "  <th>Intercept</th> <td>-5.343e-16</td> <td>    0.033</td> <td>-1.63e-14</td> <td> 1.000</td> <td>   -0.066</td> <td>    0.066</td>\n",
       "</tr>\n",
       "<tr>\n",
       "  <th>RDS</th>       <td>    0.9176</td> <td>    0.051</td> <td>   17.846</td> <td> 0.000</td> <td>    0.814</td> <td>    1.021</td>\n",
       "</tr>\n",
       "<tr>\n",
       "  <th>ADMS</th>      <td>   -0.0186</td> <td>    0.035</td> <td>   -0.526</td> <td> 0.602</td> <td>   -0.090</td> <td>    0.053</td>\n",
       "</tr>\n",
       "<tr>\n",
       "  <th>MKTS</th>      <td>    0.0826</td> <td>    0.050</td> <td>    1.655</td> <td> 0.105</td> <td>   -0.018</td> <td>    0.183</td>\n",
       "</tr>\n",
       "</table>\n",
       "<table class=\"simpletable\">\n",
       "<tr>\n",
       "  <th>Omnibus:</th>       <td>14.838</td> <th>  Durbin-Watson:     </th> <td>   1.282</td>\n",
       "</tr>\n",
       "<tr>\n",
       "  <th>Prob(Omnibus):</th> <td> 0.001</td> <th>  Jarque-Bera (JB):  </th> <td>  21.442</td>\n",
       "</tr>\n",
       "<tr>\n",
       "  <th>Skew:</th>          <td>-0.949</td> <th>  Prob(JB):          </th> <td>2.21e-05</td>\n",
       "</tr>\n",
       "<tr>\n",
       "  <th>Kurtosis:</th>      <td> 5.586</td> <th>  Cond. No.          </th> <td>    2.78</td>\n",
       "</tr>\n",
       "</table><br/><br/>Notes:<br/>[1] Standard Errors assume that the covariance matrix of the errors is correctly specified."
      ],
      "text/plain": [
       "<class 'statsmodels.iolib.summary.Summary'>\n",
       "\"\"\"\n",
       "                            OLS Regression Results                            \n",
       "==============================================================================\n",
       "Dep. Variable:                 Profit   R-squared:                       0.951\n",
       "Model:                            OLS   Adj. R-squared:                  0.948\n",
       "Method:                 Least Squares   F-statistic:                     296.0\n",
       "Date:                Mon, 13 Jun 2022   Prob (F-statistic):           4.53e-30\n",
       "Time:                        10:57:26   Log-Likelihood:                 4.3222\n",
       "No. Observations:                  50   AIC:                           -0.6444\n",
       "Df Residuals:                      46   BIC:                             7.004\n",
       "Df Model:                           3                                         \n",
       "Covariance Type:            nonrobust                                         \n",
       "==============================================================================\n",
       "                 coef    std err          t      P>|t|      [0.025      0.975]\n",
       "------------------------------------------------------------------------------\n",
       "Intercept  -5.343e-16      0.033  -1.63e-14      1.000      -0.066       0.066\n",
       "RDS            0.9176      0.051     17.846      0.000       0.814       1.021\n",
       "ADMS          -0.0186      0.035     -0.526      0.602      -0.090       0.053\n",
       "MKTS           0.0826      0.050      1.655      0.105      -0.018       0.183\n",
       "==============================================================================\n",
       "Omnibus:                       14.838   Durbin-Watson:                   1.282\n",
       "Prob(Omnibus):                  0.001   Jarque-Bera (JB):               21.442\n",
       "Skew:                          -0.949   Prob(JB):                     2.21e-05\n",
       "Kurtosis:                       5.586   Cond. No.                         2.78\n",
       "==============================================================================\n",
       "\n",
       "Notes:\n",
       "[1] Standard Errors assume that the covariance matrix of the errors is correctly specified.\n",
       "\"\"\""
      ]
     },
     "execution_count": 46,
     "metadata": {},
     "output_type": "execute_result"
    }
   ],
   "source": [
    "model_8.summary()"
   ]
  },
  {
   "cell_type": "markdown",
   "id": "f0971a10",
   "metadata": {},
   "source": [
    "# R_Square value Table"
   ]
  },
  {
   "cell_type": "code",
   "execution_count": 47,
   "id": "8e5652fe",
   "metadata": {},
   "outputs": [
    {
     "data": {
      "text/html": [
       "<div>\n",
       "<style scoped>\n",
       "    .dataframe tbody tr th:only-of-type {\n",
       "        vertical-align: middle;\n",
       "    }\n",
       "\n",
       "    .dataframe tbody tr th {\n",
       "        vertical-align: top;\n",
       "    }\n",
       "\n",
       "    .dataframe thead th {\n",
       "        text-align: right;\n",
       "    }\n",
       "</style>\n",
       "<table border=\"1\" class=\"dataframe\">\n",
       "  <thead>\n",
       "    <tr style=\"text-align: right;\">\n",
       "      <th></th>\n",
       "      <th>Models</th>\n",
       "      <th>R_Square</th>\n",
       "      <th>AIC</th>\n",
       "    </tr>\n",
       "  </thead>\n",
       "  <tbody>\n",
       "    <tr>\n",
       "      <th>0</th>\n",
       "      <td>model_1</td>\n",
       "      <td>0.950752</td>\n",
       "      <td>3.349036</td>\n",
       "    </tr>\n",
       "    <tr>\n",
       "      <th>1</th>\n",
       "      <td>model_2</td>\n",
       "      <td>0.946535</td>\n",
       "      <td>-0.542845</td>\n",
       "    </tr>\n",
       "    <tr>\n",
       "      <th>2</th>\n",
       "      <td>model_3</td>\n",
       "      <td>0.040287</td>\n",
       "      <td>143.837796</td>\n",
       "    </tr>\n",
       "    <tr>\n",
       "      <th>3</th>\n",
       "      <td>model_4</td>\n",
       "      <td>0.559154</td>\n",
       "      <td>104.940918</td>\n",
       "    </tr>\n",
       "    <tr>\n",
       "      <th>4</th>\n",
       "      <td>model_5</td>\n",
       "      <td>0.021268</td>\n",
       "      <td>144.818960</td>\n",
       "    </tr>\n",
       "    <tr>\n",
       "      <th>5</th>\n",
       "      <td>model_6</td>\n",
       "      <td>0.013513</td>\n",
       "      <td>145.213610</td>\n",
       "    </tr>\n",
       "    <tr>\n",
       "      <th>6</th>\n",
       "      <td>model_7</td>\n",
       "      <td>0.000984</td>\n",
       "      <td>145.844633</td>\n",
       "    </tr>\n",
       "    <tr>\n",
       "      <th>7</th>\n",
       "      <td>model_8</td>\n",
       "      <td>0.950746</td>\n",
       "      <td>-0.644375</td>\n",
       "    </tr>\n",
       "  </tbody>\n",
       "</table>\n",
       "</div>"
      ],
      "text/plain": [
       "    Models  R_Square         AIC\n",
       "0  model_1  0.950752    3.349036\n",
       "1  model_2  0.946535   -0.542845\n",
       "2  model_3  0.040287  143.837796\n",
       "3  model_4  0.559154  104.940918\n",
       "4  model_5  0.021268  144.818960\n",
       "5  model_6  0.013513  145.213610\n",
       "6  model_7  0.000984  145.844633\n",
       "7  model_8  0.950746   -0.644375"
      ]
     },
     "execution_count": 47,
     "metadata": {},
     "output_type": "execute_result"
    }
   ],
   "source": [
    "d2 = {'Models':['model_1', 'model_2', 'model_3', 'model_4', 'model_5', 'model_6', 'model_7', 'model_8'], 'R_Square':[model_1.rsquared,model_2.rsquared,model_3.rsquared,model_4.rsquared,model_5.rsquared,model_6.rsquared,model_7.rsquared,model_8.rsquared], 'AIC':[model_1.aic,model_2.aic,model_3.aic,model_4.aic,model_5.aic,model_6.aic,model_7.aic,model_8.aic]}\n",
    "R_square_table = pd.DataFrame(d2)\n",
    "R_square_table"
   ]
  },
  {
   "cell_type": "markdown",
   "id": "56c3fd09",
   "metadata": {},
   "source": [
    "Observations :-\n",
    "\n",
    "Comparing above R-Square and AIC values, \"model_8\" has high R-square and low AIC value hence include variable 'RDS', 'ADMS', & 'MKTS' so that multi collinearity problem would be resolved."
   ]
  },
  {
   "cell_type": "markdown",
   "id": "bd40a3b7",
   "metadata": {},
   "source": [
    "## Residual Plot for Homoscedasticity"
   ]
  },
  {
   "cell_type": "code",
   "execution_count": 48,
   "id": "d9649bc0",
   "metadata": {},
   "outputs": [
    {
     "name": "stderr",
     "output_type": "stream",
     "text": [
      "C:\\ProgramData\\Anaconda3\\lib\\site-packages\\statsmodels\\graphics\\gofplots.py:993: UserWarning: marker is redundantly defined by the 'marker' keyword argument and the fmt string \"bo\" (-> marker='o'). The keyword argument will take precedence.\n",
      "  ax.plot(x, y, fmt, **plot_style)\n"
     ]
    },
    {
     "data": {
      "image/png": "[encoded data removed]",
      "text/plain": [
       "<Figure size 432x288 with 1 Axes>"
      ]
     },
     "metadata": {},
     "output_type": "display_data"
    }
   ],
   "source": [
    "qqplot=sm.qqplot(model_8.resid,line='q')\n",
    "plt.title(\"Normal Q-Q plot of residuals\")\n",
    "plt.show()"
   ]
  },
  {
   "cell_type": "code",
   "execution_count": 49,
   "id": "342f397a",
   "metadata": {},
   "outputs": [
    {
     "data": {
      "text/plain": [
       "0   -0.006502\n",
       "1    0.066046\n",
       "2    0.223130\n",
       "3    0.230703\n",
       "4   -0.149158\n",
       "dtype: float64"
      ]
     },
     "execution_count": 49,
     "metadata": {},
     "output_type": "execute_result"
    }
   ],
   "source": [
    "res = model_8.resid\n",
    "res.head()"
   ]
  },
  {
   "cell_type": "code",
   "execution_count": 50,
   "id": "ef4ed3b3",
   "metadata": {},
   "outputs": [
    {
     "data": {
      "text/plain": [
       "5.773159728050814e-17"
      ]
     },
     "execution_count": 50,
     "metadata": {},
     "output_type": "execute_result"
    }
   ],
   "source": [
    "res.mean()"
   ]
  },
  {
   "cell_type": "code",
   "execution_count": 51,
   "id": "7bf126f7",
   "metadata": {},
   "outputs": [
    {
     "data": {
      "image/png": "[encoded data removed]",
      "text/plain": [
       "<Figure size 432x288 with 1 Axes>"
      ]
     },
     "metadata": {},
     "output_type": "display_data"
    }
   ],
   "source": [
    "plt.scatter(model_8.fittedvalues, model_8.resid)\n",
    "plt.title(\"Residual Plot\", size=20, color = \"red\")\n",
    "plt.xlabel(\"Fitted Values\")\n",
    "plt.ylabel(\"Residual Values\")\n",
    "plt.show()"
   ]
  },
  {
   "cell_type": "markdown",
   "id": "fa328f14",
   "metadata": {},
   "source": [
    "Observations :-\n",
    "    \n",
    "There is no pattern in the Residual plot, so we can say there is a linear relation and no error variance."
   ]
  },
  {
   "cell_type": "markdown",
   "id": "37fa3412",
   "metadata": {},
   "source": [
    "## Residual Vs Regressors"
   ]
  },
  {
   "cell_type": "code",
   "execution_count": 52,
   "id": "33d8fadc",
   "metadata": {},
   "outputs": [
    {
     "data": {
      "image/png": "[encoded data removed]",
      "text/plain": [
       "<Figure size 1080x576 with 4 Axes>"
      ]
     },
     "metadata": {},
     "output_type": "display_data"
    }
   ],
   "source": [
    "fig = plt.figure(figsize=(15,8))\n",
    "fig = sm.graphics.plot_regress_exog(model_8, \"RDS\", fig=fig)\n",
    "plt.show()"
   ]
  },
  {
   "cell_type": "code",
   "execution_count": 53,
   "id": "4835093a",
   "metadata": {},
   "outputs": [
    {
     "data": {
      "image/png": "[encoded data removed]",
      "text/plain": [
       "<Figure size 1080x576 with 4 Axes>"
      ]
     },
     "metadata": {},
     "output_type": "display_data"
    }
   ],
   "source": [
    "fig = plt.figure(figsize=(15,8))\n",
    "fig = sm.graphics.plot_regress_exog(model_8, \"ADMS\", fig=fig)\n",
    "plt.show()"
   ]
  },
  {
   "cell_type": "code",
   "execution_count": 54,
   "id": "0e5c480e",
   "metadata": {},
   "outputs": [
    {
     "data": {
      "image/png": "[encoded data removed]",
      "text/plain": [
       "<Figure size 1080x576 with 4 Axes>"
      ]
     },
     "metadata": {},
     "output_type": "display_data"
    }
   ],
   "source": [
    "fig = plt.figure(figsize=(15,8))\n",
    "fig = sm.graphics.plot_regress_exog(model_8, \"MKTS\", fig=fig)\n",
    "plt.show()"
   ]
  },
  {
   "cell_type": "markdown",
   "id": "11b94da4",
   "metadata": {},
   "source": [
    "# Model Deletion Diagnostics"
   ]
  },
  {
   "cell_type": "markdown",
   "id": "53531312",
   "metadata": {},
   "source": [
    "## Detecting Influencers/Outliers using Cook’s Distance"
   ]
  },
  {
   "cell_type": "code",
   "execution_count": 55,
   "id": "7b6cff0f",
   "metadata": {},
   "outputs": [],
   "source": [
    "model_influence = model_8.get_influence()\n",
    "(c,_) = model_influence.cooks_distance"
   ]
  },
  {
   "cell_type": "code",
   "execution_count": 56,
   "id": "34c08ebf",
   "metadata": {},
   "outputs": [
    {
     "data": {
      "image/png": "[encoded data removed]",
      "text/plain": [
       "<Figure size 1152x432 with 1 Axes>"
      ]
     },
     "metadata": {},
     "output_type": "display_data"
    }
   ],
   "source": [
    "plt.subplots(figsize=(16,6))\n",
    "plt.stem(np.arange(len(std_data)), np.round(c, 3))\n",
    "plt.xlabel(\"Row Index\")\n",
    "plt.ylabel(\"Cooks Distance\")\n",
    "plt.show()"
   ]
  },
  {
   "cell_type": "code",
   "execution_count": 57,
   "id": "4d7bcf78",
   "metadata": {},
   "outputs": [
    {
     "data": {
      "text/plain": [
       "(49, 0.2880822927543273)"
      ]
     },
     "execution_count": 57,
     "metadata": {},
     "output_type": "execute_result"
    }
   ],
   "source": [
    "np.argmax(c), np.max(c)"
   ]
  },
  {
   "cell_type": "code",
   "execution_count": 58,
   "id": "06f0f47d",
   "metadata": {},
   "outputs": [
    {
     "data": {
      "text/html": [
       "<div>\n",
       "<style scoped>\n",
       "    .dataframe tbody tr th:only-of-type {\n",
       "        vertical-align: middle;\n",
       "    }\n",
       "\n",
       "    .dataframe tbody tr th {\n",
       "        vertical-align: top;\n",
       "    }\n",
       "\n",
       "    .dataframe thead th {\n",
       "        text-align: right;\n",
       "    }\n",
       "</style>\n",
       "<table border=\"1\" class=\"dataframe\">\n",
       "  <thead>\n",
       "    <tr style=\"text-align: right;\">\n",
       "      <th></th>\n",
       "      <th>RDS</th>\n",
       "      <th>ADMS</th>\n",
       "      <th>MKTS</th>\n",
       "      <th>Profit</th>\n",
       "      <th>S_CA</th>\n",
       "      <th>S_FL</th>\n",
       "      <th>S_NY</th>\n",
       "    </tr>\n",
       "  </thead>\n",
       "  <tbody>\n",
       "    <tr>\n",
       "      <th>44</th>\n",
       "      <td>-1.134305</td>\n",
       "      <td>1.206419</td>\n",
       "      <td>-1.509074</td>\n",
       "      <td>-1.173209</td>\n",
       "      <td>1.393261</td>\n",
       "      <td>-0.685994</td>\n",
       "      <td>-0.717741</td>\n",
       "    </tr>\n",
       "    <tr>\n",
       "      <th>45</th>\n",
       "      <td>-1.600350</td>\n",
       "      <td>0.101254</td>\n",
       "      <td>-1.727400</td>\n",
       "      <td>-1.180082</td>\n",
       "      <td>-0.717741</td>\n",
       "      <td>-0.685994</td>\n",
       "      <td>1.393261</td>\n",
       "    </tr>\n",
       "    <tr>\n",
       "      <th>46</th>\n",
       "      <td>-1.593413</td>\n",
       "      <td>-0.199322</td>\n",
       "      <td>0.711122</td>\n",
       "      <td>-1.566922</td>\n",
       "      <td>-0.717741</td>\n",
       "      <td>1.457738</td>\n",
       "      <td>-0.717741</td>\n",
       "    </tr>\n",
       "    <tr>\n",
       "      <th>47</th>\n",
       "      <td>-1.622362</td>\n",
       "      <td>0.507722</td>\n",
       "      <td>-1.743127</td>\n",
       "      <td>-1.740627</td>\n",
       "      <td>1.393261</td>\n",
       "      <td>-0.685994</td>\n",
       "      <td>-0.717741</td>\n",
       "    </tr>\n",
       "    <tr>\n",
       "      <th>48</th>\n",
       "      <td>-1.610433</td>\n",
       "      <td>-2.509409</td>\n",
       "      <td>-1.743127</td>\n",
       "      <td>-1.913212</td>\n",
       "      <td>-0.717741</td>\n",
       "      <td>-0.685994</td>\n",
       "      <td>1.393261</td>\n",
       "    </tr>\n",
       "  </tbody>\n",
       "</table>\n",
       "</div>"
      ],
      "text/plain": [
       "         RDS      ADMS      MKTS    Profit      S_CA      S_FL      S_NY\n",
       "44 -1.134305  1.206419 -1.509074 -1.173209  1.393261 -0.685994 -0.717741\n",
       "45 -1.600350  0.101254 -1.727400 -1.180082 -0.717741 -0.685994  1.393261\n",
       "46 -1.593413 -0.199322  0.711122 -1.566922 -0.717741  1.457738 -0.717741\n",
       "47 -1.622362  0.507722 -1.743127 -1.740627  1.393261 -0.685994 -0.717741\n",
       "48 -1.610433 -2.509409 -1.743127 -1.913212 -0.717741 -0.685994  1.393261"
      ]
     },
     "execution_count": 58,
     "metadata": {},
     "output_type": "execute_result"
    }
   ],
   "source": [
    "std_data1 = std_data.drop(std_data.index[49], axis=0)\n",
    "std_data1.tail()"
   ]
  },
  {
   "cell_type": "markdown",
   "id": "3d688814",
   "metadata": {},
   "source": [
    "# Improving the model"
   ]
  },
  {
   "cell_type": "code",
   "execution_count": 59,
   "id": "b7f3087f",
   "metadata": {},
   "outputs": [
    {
     "data": {
      "text/plain": [
       "(Intercept     0.654017\n",
       " RDS          20.469501\n",
       " ADMS         -0.517889\n",
       " MKTS          1.825383\n",
       " dtype: float64,\n",
       " Intercept    5.164296e-01\n",
       " RDS          1.971077e-24\n",
       " ADMS         6.070728e-01\n",
       " MKTS         7.458443e-02\n",
       " dtype: float64)"
      ]
     },
     "execution_count": 59,
     "metadata": {},
     "output_type": "execute_result"
    }
   ],
   "source": [
    "model_8A = smf.ols(\"Profit~RDS+ADMS+MKTS\", data=std_data1).fit()\n",
    "model_8A.tvalues, model_8A.pvalues"
   ]
  },
  {
   "cell_type": "code",
   "execution_count": 60,
   "id": "98eb9883",
   "metadata": {},
   "outputs": [
    {
     "data": {
      "text/plain": [
       "(0.9613162435129847, -17.662259143038426)"
      ]
     },
     "execution_count": 60,
     "metadata": {},
     "output_type": "execute_result"
    }
   ],
   "source": [
    "model_8A.rsquared, model_8A.aic"
   ]
  },
  {
   "cell_type": "code",
   "execution_count": 61,
   "id": "5ad810cd",
   "metadata": {},
   "outputs": [
    {
     "data": {
      "image/png": "[encoded data removed]",
      "text/plain": [
       "<Figure size 432x288 with 4 Axes>"
      ]
     },
     "execution_count": 61,
     "metadata": {},
     "output_type": "execute_result"
    },
    {
     "data": {
      "image/png": "[encoded data removed]",
      "text/plain": [
       "<Figure size 432x288 with 4 Axes>"
      ]
     },
     "metadata": {},
     "output_type": "display_data"
    }
   ],
   "source": [
    "sm.graphics.plot_partregress_grid(model_8A)"
   ]
  },
  {
   "cell_type": "markdown",
   "id": "f4ac66da",
   "metadata": {},
   "source": [
    "# Output Interpretation"
   ]
  },
  {
   "cell_type": "markdown",
   "id": "019d04d2",
   "metadata": {},
   "source": [
    "We will use \"model_8A\" as it has the best R square and AIC value.\n",
    "\n",
    "Also p-value < 0.05\n",
    "\n",
    "Thus the model is accepted."
   ]
  },
  {
   "cell_type": "markdown",
   "id": "a4de8c3a",
   "metadata": {},
   "source": [
    "## Predicting for new data"
   ]
  },
  {
   "cell_type": "code",
   "execution_count": 62,
   "id": "0eac49c4",
   "metadata": {},
   "outputs": [],
   "source": [
    "new_data=pd.DataFrame({'RDS':151617.2,\"ADMS\":121614.9,\"MKTS\":181513.5,\"S_CA\":1,\"S_CA\":0,'S_CA':0},index=[1])"
   ]
  },
  {
   "cell_type": "code",
   "execution_count": 63,
   "id": "e289b7ea",
   "metadata": {},
   "outputs": [
    {
     "data": {
      "text/plain": [
       "1    147218.841695\n",
       "dtype: float64"
      ]
     },
     "execution_count": 63,
     "metadata": {},
     "output_type": "execute_result"
    }
   ],
   "source": [
    "model_8A.predict(new_data)"
   ]
  },
  {
   "cell_type": "markdown",
   "id": "2cb0c01d",
   "metadata": {},
   "source": [
    "# Final prediction for profit of 50_startups data"
   ]
  },
  {
   "cell_type": "code",
   "execution_count": 64,
   "id": "e5c1f2ff",
   "metadata": {},
   "outputs": [
    {
     "data": {
      "text/plain": [
       "0     181451.011642\n",
       "1     176639.090436\n",
       "2     166496.220252\n",
       "3     156245.008610\n",
       "4     153342.318278\n",
       "5     143836.523788\n",
       "6     127544.679944\n",
       "7     138738.547952\n",
       "8     129051.247543\n",
       "9     131651.435544\n",
       "10    106714.975825\n",
       "11    107474.315256\n",
       "12    100862.288790\n",
       "13     99283.733371\n",
       "14    124177.581111\n",
       "15    120271.423530\n",
       "16     87927.004788\n",
       "17    103801.912078\n",
       "18    102630.857415\n",
       "19     74692.466318\n",
       "20     89104.963137\n",
       "21     90475.589860\n",
       "22     87309.095172\n",
       "23     81920.634271\n",
       "24     77931.359198\n",
       "25     66071.082470\n",
       "26     75210.185767\n",
       "27     89365.655535\n",
       "28     65125.701411\n",
       "29     64342.069971\n",
       "30     60473.633272\n",
       "31     58913.489088\n",
       "32     58076.598117\n",
       "33     64326.619252\n",
       "34     55103.712831\n",
       "35     55453.176936\n",
       "36     38997.252436\n",
       "37     53590.843325\n",
       "38     31205.089969\n",
       "39     46500.400267\n",
       "40     37040.326256\n",
       "41     36157.009395\n",
       "42     30927.396816\n",
       "43     14581.312661\n",
       "44     19556.420387\n",
       "45      -878.316841\n",
       "46     22132.658095\n",
       "47     -2089.985868\n",
       "48      -315.165593\n",
       "49      1653.075908\n",
       "dtype: float64"
      ]
     },
     "execution_count": 64,
     "metadata": {},
     "output_type": "execute_result"
    }
   ],
   "source": [
    "model_8A.predict(data1)"
   ]
  }
 ],
 "metadata": {
  "kernelspec": {
   "display_name": "Python 3 (ipykernel)",
   "language": "python",
   "name": "python3"
  },
  "language_info": {
   "codemirror_mode": {
    "name": "ipython",
    "version": 3
   },
   "file_extension": ".py",
   "mimetype": "text/x-python",
   "name": "python",
   "nbconvert_exporter": "python",
   "pygments_lexer": "ipython3",
   "version": "3.9.7"
  }
 },
 "nbformat": 4,
 "nbformat_minor": 5
}
